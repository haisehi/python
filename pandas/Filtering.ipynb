{
 "cells": [
  {
   "cell_type": "code",
   "execution_count": 22,
   "id": "ab0fd89f-d986-4e73-8fd4-5bbcacbc2e17",
   "metadata": {},
   "outputs": [],
   "source": [
    "#Python Pandas Tutorial (Part 4): Filtering - Using Conditionals to Filter Rows and Columns"
   ]
  },
  {
   "cell_type": "code",
   "execution_count": 23,
   "id": "e2c1361b-9497-4978-bb65-2e3cc4833ed4",
   "metadata": {},
   "outputs": [],
   "source": [
    "people = {\n",
    "    \"first\":\"Corey\",\n",
    "    \"last\":\"Schafer\",\n",
    "    \"email\":\"CoreyMSchafer@gmail.com\",\n",
    "}"
   ]
  },
  {
   "cell_type": "code",
   "execution_count": 24,
   "id": "48894d8f-3857-4e6b-9a62-ebb81291a8a7",
   "metadata": {},
   "outputs": [],
   "source": [
    "people = {\n",
    "    \"first\":[\"Corey\"],\n",
    "    \"last\":[\"Schafer\"],\n",
    "    \"email\":[\"CoreyMSchafer@gmail.com\"],\n",
    "}"
   ]
  },
  {
   "cell_type": "code",
   "execution_count": 25,
   "id": "e8a3d2f5-b60e-4e2e-ab24-594cb8dc2226",
   "metadata": {},
   "outputs": [],
   "source": [
    "people = {\n",
    "    \"first\":[\"Corey\",'Jane','John'],\n",
    "    \"last\":[\"Schafer\",'Doe','Doe'],\n",
    "    \"email\":[\"CoreyMSchafer@gmail.com\",'JaneDoe@email.com','JohnDoe@email.com'],\n",
    "}"
   ]
  },
  {
   "cell_type": "code",
   "execution_count": 26,
   "id": "b3faab43-0b34-4030-91c6-21a724625b79",
   "metadata": {},
   "outputs": [],
   "source": [
    "import pandas as pd"
   ]
  },
  {
   "cell_type": "code",
   "execution_count": 27,
   "id": "a764db2c-d497-426d-950c-0dcc5ffe6360",
   "metadata": {},
   "outputs": [],
   "source": [
    "df = pd.DataFrame(people)"
   ]
  },
  {
   "cell_type": "code",
   "execution_count": 28,
   "id": "1c24598d-a23b-45a5-8cbb-c6f064b7403f",
   "metadata": {},
   "outputs": [
    {
     "data": {
      "text/html": [
       "<div>\n",
       "<style scoped>\n",
       "    .dataframe tbody tr th:only-of-type {\n",
       "        vertical-align: middle;\n",
       "    }\n",
       "\n",
       "    .dataframe tbody tr th {\n",
       "        vertical-align: top;\n",
       "    }\n",
       "\n",
       "    .dataframe thead th {\n",
       "        text-align: right;\n",
       "    }\n",
       "</style>\n",
       "<table border=\"1\" class=\"dataframe\">\n",
       "  <thead>\n",
       "    <tr style=\"text-align: right;\">\n",
       "      <th></th>\n",
       "      <th>first</th>\n",
       "      <th>last</th>\n",
       "      <th>email</th>\n",
       "    </tr>\n",
       "  </thead>\n",
       "  <tbody>\n",
       "    <tr>\n",
       "      <th>0</th>\n",
       "      <td>Corey</td>\n",
       "      <td>Schafer</td>\n",
       "      <td>CoreyMSchafer@gmail.com</td>\n",
       "    </tr>\n",
       "    <tr>\n",
       "      <th>1</th>\n",
       "      <td>Jane</td>\n",
       "      <td>Doe</td>\n",
       "      <td>JaneDoe@email.com</td>\n",
       "    </tr>\n",
       "    <tr>\n",
       "      <th>2</th>\n",
       "      <td>John</td>\n",
       "      <td>Doe</td>\n",
       "      <td>JohnDoe@email.com</td>\n",
       "    </tr>\n",
       "  </tbody>\n",
       "</table>\n",
       "</div>"
      ],
      "text/plain": [
       "   first     last                    email\n",
       "0  Corey  Schafer  CoreyMSchafer@gmail.com\n",
       "1   Jane      Doe        JaneDoe@email.com\n",
       "2   John      Doe        JohnDoe@email.com"
      ]
     },
     "execution_count": 28,
     "metadata": {},
     "output_type": "execute_result"
    }
   ],
   "source": [
    "df"
   ]
  },
  {
   "cell_type": "code",
   "execution_count": 35,
   "id": "e9f2395b-0f14-4d3a-8a19-5211b62ce4ca",
   "metadata": {},
   "outputs": [],
   "source": [
    "filt = ((df['last']=='Schafer') | (df['first']=='John')) #filter DataFrame"
   ]
  },
  {
   "cell_type": "code",
   "execution_count": 36,
   "id": "d65cf1b4-5a8c-4f52-9443-53512924f6ad",
   "metadata": {},
   "outputs": [],
   "source": [
    "#df[filt]"
   ]
  },
  {
   "cell_type": "code",
   "execution_count": 39,
   "id": "b8a15ffd-0a38-4ca6-8c78-de4cd1abe99f",
   "metadata": {},
   "outputs": [
    {
     "data": {
      "text/plain": [
       "1    JaneDoe@email.com\n",
       "Name: email, dtype: object"
      ]
     },
     "execution_count": 39,
     "metadata": {},
     "output_type": "execute_result"
    }
   ],
   "source": [
    "#df.loc[filt,['email','first']] #giá trị đầu tiên là các hàng muốn hiện thị , giá trị thứ 2 là các cột muốn hiển thị\n",
    "df.loc[~filt,'email'] #thêm ~ để phủ định"
   ]
  },
  {
   "cell_type": "code",
   "execution_count": null,
   "id": "e6d10273-aa0a-47df-b3e3-41ad81524e68",
   "metadata": {},
   "outputs": [],
   "source": []
  }
 ],
 "metadata": {
  "kernelspec": {
   "display_name": "Python 3 (ipykernel)",
   "language": "python",
   "name": "python3"
  },
  "language_info": {
   "codemirror_mode": {
    "name": "ipython",
    "version": 3
   },
   "file_extension": ".py",
   "mimetype": "text/x-python",
   "name": "python",
   "nbconvert_exporter": "python",
   "pygments_lexer": "ipython3",
   "version": "3.12.1"
  }
 },
 "nbformat": 4,
 "nbformat_minor": 5
}
