{
 "cells": [
  {
   "cell_type": "code",
   "execution_count": 2,
   "metadata": {},
   "outputs": [],
   "source": [
    "#import libraries\n",
    "import cv2\n",
    "import numpy as np\n",
    "import pandas as pd\n",
    "from sklearn.model_selection import train_test_split\n",
    "from sklearn.preprocessing import LabelEncoder\n",
    "from sklearn.svm import SVC\n",
    "from sklearn.metrics import accuracy_score\n",
    "import joblib\n",
    "import matplotlib.pyplot as plt\n",
    "from sklearn.metrics import accuracy_score, classification_report, confusion_matrix\n",
    "\n",
    "#dùng để xoay góc ảnh\n",
    "from PIL import Image\n",
    "import pandas as pd\n",
    "import os"
   ]
  },
  {
   "cell_type": "code",
   "execution_count": 3,
   "metadata": {},
   "outputs": [],
   "source": [
    "# Đọc file CSV phân biệt tay\n",
    "data = pd.read_csv('TayTraiPhai2_1.3_PhanQuangHuy_21SE2_tayall.csv')\n",
    "\n",
    "# Đọc file CSV chứa thông tin góc xoay\n",
    "angle_data = pd.read_csv('GocXoay_1.3_PhanQuangHuy_21SE2_tayall.csv')"
   ]
  },
  {
   "cell_type": "code",
   "execution_count": 4,
   "metadata": {},
   "outputs": [
    {
     "data": {
      "text/html": [
       "<div>\n",
       "<style scoped>\n",
       "    .dataframe tbody tr th:only-of-type {\n",
       "        vertical-align: middle;\n",
       "    }\n",
       "\n",
       "    .dataframe tbody tr th {\n",
       "        vertical-align: top;\n",
       "    }\n",
       "\n",
       "    .dataframe thead th {\n",
       "        text-align: right;\n",
       "    }\n",
       "</style>\n",
       "<table border=\"1\" class=\"dataframe\">\n",
       "  <thead>\n",
       "    <tr style=\"text-align: right;\">\n",
       "      <th></th>\n",
       "      <th>Stt</th>\n",
       "      <th>Folder</th>\n",
       "      <th>ID</th>\n",
       "      <th>Tay T (trai)/P (phai)/2 (ca 2 tay)</th>\n",
       "    </tr>\n",
       "  </thead>\n",
       "  <tbody>\n",
       "    <tr>\n",
       "      <th>0</th>\n",
       "      <td>No. 1001</td>\n",
       "      <td>train1</td>\n",
       "      <td>2491</td>\n",
       "      <td>T</td>\n",
       "    </tr>\n",
       "    <tr>\n",
       "      <th>1</th>\n",
       "      <td>No. 1002</td>\n",
       "      <td>train1</td>\n",
       "      <td>2492</td>\n",
       "      <td>T</td>\n",
       "    </tr>\n",
       "    <tr>\n",
       "      <th>2</th>\n",
       "      <td>No. 1003</td>\n",
       "      <td>train1</td>\n",
       "      <td>2493</td>\n",
       "      <td>T</td>\n",
       "    </tr>\n",
       "    <tr>\n",
       "      <th>3</th>\n",
       "      <td>No. 1004</td>\n",
       "      <td>train1</td>\n",
       "      <td>2494</td>\n",
       "      <td>T</td>\n",
       "    </tr>\n",
       "    <tr>\n",
       "      <th>4</th>\n",
       "      <td>No. 1005</td>\n",
       "      <td>train1</td>\n",
       "      <td>2495</td>\n",
       "      <td>T</td>\n",
       "    </tr>\n",
       "  </tbody>\n",
       "</table>\n",
       "</div>"
      ],
      "text/plain": [
       "        Stt  Folder    ID Tay T (trai)/P (phai)/2 (ca 2 tay)\n",
       "0  No. 1001  train1  2491                                  T\n",
       "1  No. 1002  train1  2492                                  T\n",
       "2  No. 1003  train1  2493                                  T\n",
       "3  No. 1004  train1  2494                                  T\n",
       "4  No. 1005  train1  2495                                  T"
      ]
     },
     "execution_count": 4,
     "metadata": {},
     "output_type": "execute_result"
    }
   ],
   "source": [
    "#đọc dữ liệu file phân loại tay\n",
    "data.head()"
   ]
  },
  {
   "cell_type": "code",
   "execution_count": 35,
   "metadata": {},
   "outputs": [
    {
     "name": "stdout",
     "output_type": "stream",
     "text": [
      "<class 'pandas.core.frame.DataFrame'>\n",
      "RangeIndex: 500 entries, 0 to 499\n",
      "Data columns (total 4 columns):\n",
      " #   Column                              Non-Null Count  Dtype \n",
      "---  ------                              --------------  ----- \n",
      " 0   Stt                                 500 non-null    object\n",
      " 1   Folder                              500 non-null    object\n",
      " 2   ID                                  500 non-null    int64 \n",
      " 3   Tay T (trai)/P (phai)/2 (ca 2 tay)  500 non-null    object\n",
      "dtypes: int64(1), object(3)\n",
      "memory usage: 15.8+ KB\n"
     ]
    }
   ],
   "source": [
    "data.info()"
   ]
  },
  {
   "cell_type": "code",
   "execution_count": 5,
   "metadata": {},
   "outputs": [
    {
     "data": {
      "text/html": [
       "<div>\n",
       "<style scoped>\n",
       "    .dataframe tbody tr th:only-of-type {\n",
       "        vertical-align: middle;\n",
       "    }\n",
       "\n",
       "    .dataframe tbody tr th {\n",
       "        vertical-align: top;\n",
       "    }\n",
       "\n",
       "    .dataframe thead th {\n",
       "        text-align: right;\n",
       "    }\n",
       "</style>\n",
       "<table border=\"1\" class=\"dataframe\">\n",
       "  <thead>\n",
       "    <tr style=\"text-align: right;\">\n",
       "      <th></th>\n",
       "      <th>Stt</th>\n",
       "      <th>Folder</th>\n",
       "      <th>ID</th>\n",
       "      <th>Tay T (trai)/P (phai)/2 (ca 2 tay)</th>\n",
       "    </tr>\n",
       "  </thead>\n",
       "  <tbody>\n",
       "    <tr>\n",
       "      <th>86</th>\n",
       "      <td>No. 1087</td>\n",
       "      <td>train1</td>\n",
       "      <td>2584</td>\n",
       "      <td>P</td>\n",
       "    </tr>\n",
       "    <tr>\n",
       "      <th>156</th>\n",
       "      <td>No. 1157</td>\n",
       "      <td>train1</td>\n",
       "      <td>2660</td>\n",
       "      <td>P</td>\n",
       "    </tr>\n",
       "    <tr>\n",
       "      <th>164</th>\n",
       "      <td>No. 1165</td>\n",
       "      <td>train1</td>\n",
       "      <td>2668</td>\n",
       "      <td>P</td>\n",
       "    </tr>\n",
       "    <tr>\n",
       "      <th>165</th>\n",
       "      <td>No. 1166</td>\n",
       "      <td>train1</td>\n",
       "      <td>2669</td>\n",
       "      <td>P</td>\n",
       "    </tr>\n",
       "    <tr>\n",
       "      <th>176</th>\n",
       "      <td>No. 1177</td>\n",
       "      <td>train1</td>\n",
       "      <td>2682</td>\n",
       "      <td>P</td>\n",
       "    </tr>\n",
       "    <tr>\n",
       "      <th>182</th>\n",
       "      <td>No. 1183</td>\n",
       "      <td>train1</td>\n",
       "      <td>2689</td>\n",
       "      <td>P</td>\n",
       "    </tr>\n",
       "    <tr>\n",
       "      <th>215</th>\n",
       "      <td>No. 1216</td>\n",
       "      <td>train1</td>\n",
       "      <td>2724</td>\n",
       "      <td>P</td>\n",
       "    </tr>\n",
       "    <tr>\n",
       "      <th>222</th>\n",
       "      <td>No. 1223</td>\n",
       "      <td>train1</td>\n",
       "      <td>2731</td>\n",
       "      <td>P</td>\n",
       "    </tr>\n",
       "    <tr>\n",
       "      <th>227</th>\n",
       "      <td>No. 1228</td>\n",
       "      <td>train1</td>\n",
       "      <td>2736</td>\n",
       "      <td>P</td>\n",
       "    </tr>\n",
       "    <tr>\n",
       "      <th>247</th>\n",
       "      <td>No. 1248</td>\n",
       "      <td>train1</td>\n",
       "      <td>2757</td>\n",
       "      <td>P</td>\n",
       "    </tr>\n",
       "    <tr>\n",
       "      <th>260</th>\n",
       "      <td>No. 1261</td>\n",
       "      <td>train1</td>\n",
       "      <td>2773</td>\n",
       "      <td>P</td>\n",
       "    </tr>\n",
       "    <tr>\n",
       "      <th>261</th>\n",
       "      <td>No. 1262</td>\n",
       "      <td>train1</td>\n",
       "      <td>2774</td>\n",
       "      <td>P</td>\n",
       "    </tr>\n",
       "    <tr>\n",
       "      <th>274</th>\n",
       "      <td>No. 1275</td>\n",
       "      <td>train1</td>\n",
       "      <td>2787</td>\n",
       "      <td>P</td>\n",
       "    </tr>\n",
       "    <tr>\n",
       "      <th>296</th>\n",
       "      <td>No. 1297</td>\n",
       "      <td>train1</td>\n",
       "      <td>2813</td>\n",
       "      <td>P</td>\n",
       "    </tr>\n",
       "    <tr>\n",
       "      <th>315</th>\n",
       "      <td>No. 1316</td>\n",
       "      <td>train1</td>\n",
       "      <td>2838</td>\n",
       "      <td>P</td>\n",
       "    </tr>\n",
       "    <tr>\n",
       "      <th>341</th>\n",
       "      <td>No. 1342</td>\n",
       "      <td>train1</td>\n",
       "      <td>2868</td>\n",
       "      <td>P</td>\n",
       "    </tr>\n",
       "  </tbody>\n",
       "</table>\n",
       "</div>"
      ],
      "text/plain": [
       "          Stt  Folder    ID Tay T (trai)/P (phai)/2 (ca 2 tay)\n",
       "86   No. 1087  train1  2584                                  P\n",
       "156  No. 1157  train1  2660                                  P\n",
       "164  No. 1165  train1  2668                                  P\n",
       "165  No. 1166  train1  2669                                  P\n",
       "176  No. 1177  train1  2682                                  P\n",
       "182  No. 1183  train1  2689                                  P\n",
       "215  No. 1216  train1  2724                                  P\n",
       "222  No. 1223  train1  2731                                  P\n",
       "227  No. 1228  train1  2736                                  P\n",
       "247  No. 1248  train1  2757                                  P\n",
       "260  No. 1261  train1  2773                                  P\n",
       "261  No. 1262  train1  2774                                  P\n",
       "274  No. 1275  train1  2787                                  P\n",
       "296  No. 1297  train1  2813                                  P\n",
       "315  No. 1316  train1  2838                                  P\n",
       "341  No. 1342  train1  2868                                  P"
      ]
     },
     "execution_count": 5,
     "metadata": {},
     "output_type": "execute_result"
    }
   ],
   "source": [
    "filt = ((data['Tay T (trai)/P (phai)/2 (ca 2 tay)']=='P')) #filter DataFrame\n",
    "data[filt]"
   ]
  },
  {
   "cell_type": "code",
   "execution_count": 6,
   "metadata": {},
   "outputs": [
    {
     "data": {
      "text/plain": [
       "Stt                                   16\n",
       "Folder                                16\n",
       "ID                                    16\n",
       "Tay T (trai)/P (phai)/2 (ca 2 tay)    16\n",
       "dtype: int64"
      ]
     },
     "execution_count": 6,
     "metadata": {},
     "output_type": "execute_result"
    }
   ],
   "source": [
    "data[filt].count()"
   ]
  },
  {
   "cell_type": "code",
   "execution_count": 7,
   "metadata": {},
   "outputs": [
    {
     "data": {
      "text/html": [
       "<div>\n",
       "<style scoped>\n",
       "    .dataframe tbody tr th:only-of-type {\n",
       "        vertical-align: middle;\n",
       "    }\n",
       "\n",
       "    .dataframe tbody tr th {\n",
       "        vertical-align: top;\n",
       "    }\n",
       "\n",
       "    .dataframe thead th {\n",
       "        text-align: right;\n",
       "    }\n",
       "</style>\n",
       "<table border=\"1\" class=\"dataframe\">\n",
       "  <thead>\n",
       "    <tr style=\"text-align: right;\">\n",
       "      <th></th>\n",
       "      <th>Stt</th>\n",
       "      <th>Folder</th>\n",
       "      <th>ID</th>\n",
       "      <th>Tay T (trai)/P (phai)/2 (ca 2 tay)</th>\n",
       "    </tr>\n",
       "  </thead>\n",
       "  <tbody>\n",
       "    <tr>\n",
       "      <th>0</th>\n",
       "      <td>No. 1001</td>\n",
       "      <td>train1</td>\n",
       "      <td>2491</td>\n",
       "      <td>T</td>\n",
       "    </tr>\n",
       "    <tr>\n",
       "      <th>1</th>\n",
       "      <td>No. 1002</td>\n",
       "      <td>train1</td>\n",
       "      <td>2492</td>\n",
       "      <td>T</td>\n",
       "    </tr>\n",
       "    <tr>\n",
       "      <th>2</th>\n",
       "      <td>No. 1003</td>\n",
       "      <td>train1</td>\n",
       "      <td>2493</td>\n",
       "      <td>T</td>\n",
       "    </tr>\n",
       "    <tr>\n",
       "      <th>3</th>\n",
       "      <td>No. 1004</td>\n",
       "      <td>train1</td>\n",
       "      <td>2494</td>\n",
       "      <td>T</td>\n",
       "    </tr>\n",
       "    <tr>\n",
       "      <th>4</th>\n",
       "      <td>No. 1005</td>\n",
       "      <td>train1</td>\n",
       "      <td>2495</td>\n",
       "      <td>T</td>\n",
       "    </tr>\n",
       "    <tr>\n",
       "      <th>...</th>\n",
       "      <td>...</td>\n",
       "      <td>...</td>\n",
       "      <td>...</td>\n",
       "      <td>...</td>\n",
       "    </tr>\n",
       "    <tr>\n",
       "      <th>495</th>\n",
       "      <td>No. 1496</td>\n",
       "      <td>train1</td>\n",
       "      <td>3039</td>\n",
       "      <td>T</td>\n",
       "    </tr>\n",
       "    <tr>\n",
       "      <th>496</th>\n",
       "      <td>No. 1497</td>\n",
       "      <td>train1</td>\n",
       "      <td>3040</td>\n",
       "      <td>T</td>\n",
       "    </tr>\n",
       "    <tr>\n",
       "      <th>497</th>\n",
       "      <td>No. 1498</td>\n",
       "      <td>train1</td>\n",
       "      <td>3041</td>\n",
       "      <td>T</td>\n",
       "    </tr>\n",
       "    <tr>\n",
       "      <th>498</th>\n",
       "      <td>No. 1499</td>\n",
       "      <td>train1</td>\n",
       "      <td>3042</td>\n",
       "      <td>T</td>\n",
       "    </tr>\n",
       "    <tr>\n",
       "      <th>499</th>\n",
       "      <td>No. 1500</td>\n",
       "      <td>train1</td>\n",
       "      <td>3043</td>\n",
       "      <td>T</td>\n",
       "    </tr>\n",
       "  </tbody>\n",
       "</table>\n",
       "<p>483 rows × 4 columns</p>\n",
       "</div>"
      ],
      "text/plain": [
       "          Stt  Folder    ID Tay T (trai)/P (phai)/2 (ca 2 tay)\n",
       "0    No. 1001  train1  2491                                  T\n",
       "1    No. 1002  train1  2492                                  T\n",
       "2    No. 1003  train1  2493                                  T\n",
       "3    No. 1004  train1  2494                                  T\n",
       "4    No. 1005  train1  2495                                  T\n",
       "..        ...     ...   ...                                ...\n",
       "495  No. 1496  train1  3039                                  T\n",
       "496  No. 1497  train1  3040                                  T\n",
       "497  No. 1498  train1  3041                                  T\n",
       "498  No. 1499  train1  3042                                  T\n",
       "499  No. 1500  train1  3043                                  T\n",
       "\n",
       "[483 rows x 4 columns]"
      ]
     },
     "execution_count": 7,
     "metadata": {},
     "output_type": "execute_result"
    }
   ],
   "source": [
    "filt2 = ((data['Tay T (trai)/P (phai)/2 (ca 2 tay)']=='T')) #filter DataFrame\n",
    "data[filt2]"
   ]
  },
  {
   "cell_type": "code",
   "execution_count": 33,
   "metadata": {},
   "outputs": [
    {
     "data": {
      "text/plain": [
       "Stt                                   483\n",
       "Folder                                483\n",
       "ID                                    483\n",
       "Tay T (trai)/P (phai)/2 (ca 2 tay)    483\n",
       "dtype: int64"
      ]
     },
     "execution_count": 33,
     "metadata": {},
     "output_type": "execute_result"
    }
   ],
   "source": [
    "data[filt2].count()"
   ]
  },
  {
   "cell_type": "code",
   "execution_count": 8,
   "metadata": {},
   "outputs": [
    {
     "data": {
      "text/html": [
       "<div>\n",
       "<style scoped>\n",
       "    .dataframe tbody tr th:only-of-type {\n",
       "        vertical-align: middle;\n",
       "    }\n",
       "\n",
       "    .dataframe tbody tr th {\n",
       "        vertical-align: top;\n",
       "    }\n",
       "\n",
       "    .dataframe thead th {\n",
       "        text-align: right;\n",
       "    }\n",
       "</style>\n",
       "<table border=\"1\" class=\"dataframe\">\n",
       "  <thead>\n",
       "    <tr style=\"text-align: right;\">\n",
       "      <th></th>\n",
       "      <th>Stt</th>\n",
       "      <th>Folder</th>\n",
       "      <th>ID</th>\n",
       "      <th>Tay T (trai)/P (phai)/2 (ca 2 tay)</th>\n",
       "    </tr>\n",
       "  </thead>\n",
       "  <tbody>\n",
       "  </tbody>\n",
       "</table>\n",
       "</div>"
      ],
      "text/plain": [
       "Empty DataFrame\n",
       "Columns: [Stt, Folder, ID, Tay T (trai)/P (phai)/2 (ca 2 tay)]\n",
       "Index: []"
      ]
     },
     "execution_count": 8,
     "metadata": {},
     "output_type": "execute_result"
    }
   ],
   "source": [
    "filt3 = ((data['Tay T (trai)/P (phai)/2 (ca 2 tay)']=='2')) #filter DataFrame\n",
    "data[filt3]"
   ]
  },
  {
   "cell_type": "code",
   "execution_count": 34,
   "metadata": {},
   "outputs": [
    {
     "data": {
      "text/plain": [
       "Stt                                   0\n",
       "Folder                                0\n",
       "ID                                    0\n",
       "Tay T (trai)/P (phai)/2 (ca 2 tay)    0\n",
       "dtype: int64"
      ]
     },
     "execution_count": 34,
     "metadata": {},
     "output_type": "execute_result"
    }
   ],
   "source": [
    "data[filt3].count()"
   ]
  },
  {
   "cell_type": "code",
   "execution_count": 9,
   "metadata": {},
   "outputs": [
    {
     "data": {
      "text/html": [
       "<div>\n",
       "<style scoped>\n",
       "    .dataframe tbody tr th:only-of-type {\n",
       "        vertical-align: middle;\n",
       "    }\n",
       "\n",
       "    .dataframe tbody tr th {\n",
       "        vertical-align: top;\n",
       "    }\n",
       "\n",
       "    .dataframe thead th {\n",
       "        text-align: right;\n",
       "    }\n",
       "</style>\n",
       "<table border=\"1\" class=\"dataframe\">\n",
       "  <thead>\n",
       "    <tr style=\"text-align: right;\">\n",
       "      <th></th>\n",
       "      <th>Stt</th>\n",
       "      <th>Folder</th>\n",
       "      <th>ID</th>\n",
       "      <th>Goc xoay (bao nhieu do) file giu nguyen goc xay la 0 -khong thuc hien voi anh 2 ban tay</th>\n",
       "    </tr>\n",
       "  </thead>\n",
       "  <tbody>\n",
       "    <tr>\n",
       "      <th>0</th>\n",
       "      <td>No. 1001</td>\n",
       "      <td>train1</td>\n",
       "      <td>2491</td>\n",
       "      <td>0</td>\n",
       "    </tr>\n",
       "    <tr>\n",
       "      <th>1</th>\n",
       "      <td>No. 1002</td>\n",
       "      <td>train1</td>\n",
       "      <td>2492</td>\n",
       "      <td>355</td>\n",
       "    </tr>\n",
       "    <tr>\n",
       "      <th>2</th>\n",
       "      <td>No. 1003</td>\n",
       "      <td>train1</td>\n",
       "      <td>2493</td>\n",
       "      <td>0</td>\n",
       "    </tr>\n",
       "    <tr>\n",
       "      <th>3</th>\n",
       "      <td>No. 1004</td>\n",
       "      <td>train1</td>\n",
       "      <td>2494</td>\n",
       "      <td>0</td>\n",
       "    </tr>\n",
       "    <tr>\n",
       "      <th>4</th>\n",
       "      <td>No. 1005</td>\n",
       "      <td>train1</td>\n",
       "      <td>2495</td>\n",
       "      <td>10</td>\n",
       "    </tr>\n",
       "  </tbody>\n",
       "</table>\n",
       "</div>"
      ],
      "text/plain": [
       "        Stt  Folder    ID  \\\n",
       "0  No. 1001  train1  2491   \n",
       "1  No. 1002  train1  2492   \n",
       "2  No. 1003  train1  2493   \n",
       "3  No. 1004  train1  2494   \n",
       "4  No. 1005  train1  2495   \n",
       "\n",
       "  Goc xoay (bao nhieu do) file giu nguyen goc xay la 0 -khong thuc hien voi anh 2 ban tay  \n",
       "0                                                  0                                       \n",
       "1                                                355                                       \n",
       "2                                                  0                                       \n",
       "3                                                  0                                       \n",
       "4                                                 10                                       "
      ]
     },
     "execution_count": 9,
     "metadata": {},
     "output_type": "execute_result"
    }
   ],
   "source": [
    "# đọc dữ liệu file góc xoay của tay\n",
    "angle_data.head()"
   ]
  },
  {
   "cell_type": "code",
   "execution_count": 36,
   "metadata": {},
   "outputs": [
    {
     "name": "stdout",
     "output_type": "stream",
     "text": [
      "<class 'pandas.core.frame.DataFrame'>\n",
      "RangeIndex: 500 entries, 0 to 499\n",
      "Data columns (total 4 columns):\n",
      " #   Column                                                                                   Non-Null Count  Dtype \n",
      "---  ------                                                                                   --------------  ----- \n",
      " 0   Stt                                                                                      500 non-null    object\n",
      " 1   Folder                                                                                   500 non-null    object\n",
      " 2   ID                                                                                       500 non-null    int64 \n",
      " 3   Goc xoay (bao nhieu do) file giu nguyen goc xay la 0 -khong thuc hien voi anh 2 ban tay  500 non-null    object\n",
      "dtypes: int64(1), object(3)\n",
      "memory usage: 15.8+ KB\n"
     ]
    }
   ],
   "source": [
    "angle_data.info()"
   ]
  },
  {
   "cell_type": "code",
   "execution_count": 38,
   "metadata": {},
   "outputs": [
    {
     "data": {
      "text/plain": [
       "Stt                                                                                        500\n",
       "Folder                                                                                     500\n",
       "ID                                                                                         500\n",
       "Goc xoay (bao nhieu do) file giu nguyen goc xay la 0 -khong thuc hien voi anh 2 ban tay    500\n",
       "dtype: int64"
      ]
     },
     "execution_count": 38,
     "metadata": {},
     "output_type": "execute_result"
    }
   ],
   "source": [
    "angle_data.count()"
   ]
  },
  {
   "cell_type": "code",
   "execution_count": 10,
   "metadata": {},
   "outputs": [],
   "source": [
    "# Thư mục chứa ảnh gốc và thư mục chứa ảnh sau khi xoay\n",
    "image_folder = 'train1-dataset-image'\n",
    "output_folder = 'train1'"
   ]
  },
  {
   "cell_type": "code",
   "execution_count": 11,
   "metadata": {},
   "outputs": [],
   "source": [
    "# import os\n",
    "# from PIL import Image\n",
    "\n",
    "# # Hàm kiểm tra xem một giá trị có thể chuyển thành số nguyên hay không\n",
    "# def is_valid_integer(value):\n",
    "#     try:\n",
    "#         int(value)\n",
    "#         return True\n",
    "#     except (ValueError, TypeError):\n",
    "#         return False\n",
    "\n",
    "# # Lặp qua từng dòng trong dữ liệu\n",
    "# for index, row in angle_data.iterrows():\n",
    "#     # Kiểm tra nếu hình ảnh thuộc vào thư mục train1\n",
    "#     if row['Folder'] == 'train1':\n",
    "#         image_path = f\"{image_folder}/{row['ID']}.png\"\n",
    "#         output_path = f\"{output_folder}/{row['ID']}.png\"\n",
    "\n",
    "#         # Đọc ảnh\n",
    "#         img = Image.open(image_path)\n",
    "        \n",
    "#         # Kiểm tra nhãn và giá trị góc xoay\n",
    "#         angle_value = row['Goc xoay (bao nhieu do) file giu nguyen goc xay la 0 -khong thuc hien voi anh 2 ban tay']\n",
    "        \n",
    "#         # Tạo thư mục output nếu chưa tồn tại\n",
    "#         os.makedirs(output_folder, exist_ok=True)\n",
    "        \n",
    "#         if angle_value in ['L', 'Hai tay'] or not is_valid_integer(angle_value):  # Kiểm tra nhãn và giá trị góc xoay\n",
    "#             # Không xoay, chỉ lưu ảnh\n",
    "#             img.save(output_path)\n",
    "#             if angle_value in ['L', 'Hai tay']:\n",
    "#                 print(f\"Ảnh {row['ID']} không cần xoay, đã lưu vào {output_path}\")\n",
    "#             else:\n",
    "#                 print(f\"Không thể xoay ảnh {row['ID']} vì giá trị góc xoay không hợp lệ: {angle_value}\")\n",
    "#         else:\n",
    "#             angle = int(angle_value)\n",
    "#             rotate_img = img.rotate(angle, expand=True)\n",
    "#             rotate_img.save(output_path)\n",
    "#             print(f\"Đã xoay và lưu ảnh {row['ID']} vào {output_path}\")\n"
   ]
  },
  {
   "cell_type": "code",
   "execution_count": 12,
   "metadata": {},
   "outputs": [],
   "source": [
    "# Chuẩn bị danh sách ảnh và nhãn\n",
    "images = []\n",
    "labels = []"
   ]
  },
  {
   "cell_type": "code",
   "execution_count": 13,
   "metadata": {},
   "outputs": [],
   "source": [
    "# Lặp qua từng dòng trong dữ liệu\n",
    "for index, row in data.iterrows():\n",
    "    # Kiểm tra nếu hình ảnh thuộc vào thư mục train1\n",
    "    if row['Folder'] == 'train1':\n",
    "        image_path = f\"{output_folder}/{row['ID']}.png\"\n",
    "        image = cv2.imread(image_path, cv2.IMREAD_GRAYSCALE)\n",
    "        if image is not None:  # Kiểm tra xem hình ảnh có được đọc thành công không\n",
    "            image = cv2.resize(image, (64,64))  # Chuẩn hóa kích thước hình ảnh về 64x64\n",
    "            images.append(image)\n",
    "            labels.append(row['Tay T (trai)/P (phai)/2 (ca 2 tay)'])"
   ]
  },
  {
   "cell_type": "code",
   "execution_count": 14,
   "metadata": {},
   "outputs": [],
   "source": [
    "# Chuyển đổi danh sách hình ảnh và nhãn thành mảng numpy\n",
    "X = np.array(images)\n",
    "y = np.array(labels)"
   ]
  },
  {
   "cell_type": "code",
   "execution_count": 15,
   "metadata": {},
   "outputs": [],
   "source": [
    "# Chuyển đổi nhãn thành số nguyên\n",
    "label_encoder = LabelEncoder()\n",
    "y = label_encoder.fit_transform(y)"
   ]
  },
  {
   "cell_type": "code",
   "execution_count": 16,
   "metadata": {},
   "outputs": [
    {
     "data": {
      "image/png": "[encoded data removed]",
      "text/plain": [
       "<Figure size 800x600 with 1 Axes>"
      ]
     },
     "metadata": {},
     "output_type": "display_data"
    }
   ],
   "source": [
    "# Hiển thị phân phối của các nhãn trong tập dữ liệu\n",
    "unique_labels, label_counts = np.unique(y, return_counts=True)\n",
    "plt.figure(figsize=(8, 6))\n",
    "plt.bar(unique_labels, label_counts, color='skyblue')\n",
    "plt.xlabel('Labels')\n",
    "plt.ylabel('Count')\n",
    "plt.title('Distribution of Labels in the Dataset')\n",
    "plt.show()"
   ]
  },
  {
   "cell_type": "code",
   "execution_count": 17,
   "metadata": {},
   "outputs": [],
   "source": [
    "# Chuyển đổi mảng hình ảnh thành dạng mà SVM có thể xử lý\n",
    "X = X.reshape(X.shape[0], -1)  # Chuyển đổi mỗi ảnh thành một vector"
   ]
  },
  {
   "cell_type": "code",
   "execution_count": 18,
   "metadata": {},
   "outputs": [],
   "source": [
    "# Chia dữ liệu thành tập huấn luyện và tập kiểm tra\n",
    "X_train, X_test, y_train, y_test = train_test_split(X, y, test_size=0.2, random_state=42)\n"
   ]
  },
  {
   "cell_type": "code",
   "execution_count": 19,
   "metadata": {},
   "outputs": [],
   "source": [
    "# Hiển thị phân phối của các nhãn trong tập huấn luyện và tập kiểm tra\n",
    "unique_train_labels, train_label_counts = np.unique(y_train, return_counts=True)\n",
    "unique_test_labels, test_label_counts = np.unique(y_test, return_counts=True)\n"
   ]
  },
  {
   "cell_type": "code",
   "execution_count": 20,
   "metadata": {},
   "outputs": [
    {
     "data": {
      "image/png": "[encoded data removed]",
      "text/plain": [
       "<Figure size 800x600 with 1 Axes>"
      ]
     },
     "metadata": {},
     "output_type": "display_data"
    }
   ],
   "source": [
    "plt.figure(figsize=(8, 6))\n",
    "plt.bar(unique_train_labels, train_label_counts, color='lightgreen', alpha=0.6, label='Train')\n",
    "plt.bar(unique_test_labels, test_label_counts, color='lightblue', alpha=0.6, label='Test')\n",
    "plt.xlabel('Labels')\n",
    "plt.ylabel('Count')\n",
    "plt.title('Distribution of Labels in Train and Test Datasets')\n",
    "plt.legend()\n",
    "plt.show()"
   ]
  },
  {
   "cell_type": "code",
   "execution_count": 21,
   "metadata": {},
   "outputs": [
    {
     "data": {
      "text/html": [
       "<style>#sk-container-id-1 {\n",
       "  /* Definition of color scheme common for light and dark mode */\n",
       "  --sklearn-color-text: black;\n",
       "  --sklearn-color-line: gray;\n",
       "  /* Definition of color scheme for unfitted estimators */\n",
       "  --sklearn-color-unfitted-level-0: #fff5e6;\n",
       "  --sklearn-color-unfitted-level-1: #f6e4d2;\n",
       "  --sklearn-color-unfitted-level-2: #ffe0b3;\n",
       "  --sklearn-color-unfitted-level-3: chocolate;\n",
       "  /* Definition of color scheme for fitted estimators */\n",
       "  --sklearn-color-fitted-level-0: #f0f8ff;\n",
       "  --sklearn-color-fitted-level-1: #d4ebff;\n",
       "  --sklearn-color-fitted-level-2: #b3dbfd;\n",
       "  --sklearn-color-fitted-level-3: cornflowerblue;\n",
       "\n",
       "  /* Specific color for light theme */\n",
       "  --sklearn-color-text-on-default-background: var(--sg-text-color, var(--theme-code-foreground, var(--jp-content-font-color1, black)));\n",
       "  --sklearn-color-background: var(--sg-background-color, var(--theme-background, var(--jp-layout-color0, white)));\n",
       "  --sklearn-color-border-box: var(--sg-text-color, var(--theme-code-foreground, var(--jp-content-font-color1, black)));\n",
       "  --sklearn-color-icon: #696969;\n",
       "\n",
       "  @media (prefers-color-scheme: dark) {\n",
       "    /* Redefinition of color scheme for dark theme */\n",
       "    --sklearn-color-text-on-default-background: var(--sg-text-color, var(--theme-code-foreground, var(--jp-content-font-color1, white)));\n",
       "    --sklearn-color-background: var(--sg-background-color, var(--theme-background, var(--jp-layout-color0, #111)));\n",
       "    --sklearn-color-border-box: var(--sg-text-color, var(--theme-code-foreground, var(--jp-content-font-color1, white)));\n",
       "    --sklearn-color-icon: #878787;\n",
       "  }\n",
       "}\n",
       "\n",
       "#sk-container-id-1 {\n",
       "  color: var(--sklearn-color-text);\n",
       "}\n",
       "\n",
       "#sk-container-id-1 pre {\n",
       "  padding: 0;\n",
       "}\n",
       "\n",
       "#sk-container-id-1 input.sk-hidden--visually {\n",
       "  border: 0;\n",
       "  clip: rect(1px 1px 1px 1px);\n",
       "  clip: rect(1px, 1px, 1px, 1px);\n",
       "  height: 1px;\n",
       "  margin: -1px;\n",
       "  overflow: hidden;\n",
       "  padding: 0;\n",
       "  position: absolute;\n",
       "  width: 1px;\n",
       "}\n",
       "\n",
       "#sk-container-id-1 div.sk-dashed-wrapped {\n",
       "  border: 1px dashed var(--sklearn-color-line);\n",
       "  margin: 0 0.4em 0.5em 0.4em;\n",
       "  box-sizing: border-box;\n",
       "  padding-bottom: 0.4em;\n",
       "  background-color: var(--sklearn-color-background);\n",
       "}\n",
       "\n",
       "#sk-container-id-1 div.sk-container {\n",
       "  /* jupyter's `normalize.less` sets `[hidden] { display: none; }`\n",
       "     but bootstrap.min.css set `[hidden] { display: none !important; }`\n",
       "     so we also need the `!important` here to be able to override the\n",
       "     default hidden behavior on the sphinx rendered scikit-learn.org.\n",
       "     See: https://github.com/scikit-learn/scikit-learn/issues/21755 */\n",
       "  display: inline-block !important;\n",
       "  position: relative;\n",
       "}\n",
       "\n",
       "#sk-container-id-1 div.sk-text-repr-fallback {\n",
       "  display: none;\n",
       "}\n",
       "\n",
       "div.sk-parallel-item,\n",
       "div.sk-serial,\n",
       "div.sk-item {\n",
       "  /* draw centered vertical line to link estimators */\n",
       "  background-image: linear-gradient(var(--sklearn-color-text-on-default-background), var(--sklearn-color-text-on-default-background));\n",
       "  background-size: 2px 100%;\n",
       "  background-repeat: no-repeat;\n",
       "  background-position: center center;\n",
       "}\n",
       "\n",
       "/* Parallel-specific style estimator block */\n",
       "\n",
       "#sk-container-id-1 div.sk-parallel-item::after {\n",
       "  content: \"\";\n",
       "  width: 100%;\n",
       "  border-bottom: 2px solid var(--sklearn-color-text-on-default-background);\n",
       "  flex-grow: 1;\n",
       "}\n",
       "\n",
       "#sk-container-id-1 div.sk-parallel {\n",
       "  display: flex;\n",
       "  align-items: stretch;\n",
       "  justify-content: center;\n",
       "  background-color: var(--sklearn-color-background);\n",
       "  position: relative;\n",
       "}\n",
       "\n",
       "#sk-container-id-1 div.sk-parallel-item {\n",
       "  display: flex;\n",
       "  flex-direction: column;\n",
       "}\n",
       "\n",
       "#sk-container-id-1 div.sk-parallel-item:first-child::after {\n",
       "  align-self: flex-end;\n",
       "  width: 50%;\n",
       "}\n",
       "\n",
       "#sk-container-id-1 div.sk-parallel-item:last-child::after {\n",
       "  align-self: flex-start;\n",
       "  width: 50%;\n",
       "}\n",
       "\n",
       "#sk-container-id-1 div.sk-parallel-item:only-child::after {\n",
       "  width: 0;\n",
       "}\n",
       "\n",
       "/* Serial-specific style estimator block */\n",
       "\n",
       "#sk-container-id-1 div.sk-serial {\n",
       "  display: flex;\n",
       "  flex-direction: column;\n",
       "  align-items: center;\n",
       "  background-color: var(--sklearn-color-background);\n",
       "  padding-right: 1em;\n",
       "  padding-left: 1em;\n",
       "}\n",
       "\n",
       "\n",
       "/* Toggleable style: style used for estimator/Pipeline/ColumnTransformer box that is\n",
       "clickable and can be expanded/collapsed.\n",
       "- Pipeline and ColumnTransformer use this feature and define the default style\n",
       "- Estimators will overwrite some part of the style using the `sk-estimator` class\n",
       "*/\n",
       "\n",
       "/* Pipeline and ColumnTransformer style (default) */\n",
       "\n",
       "#sk-container-id-1 div.sk-toggleable {\n",
       "  /* Default theme specific background. It is overwritten whether we have a\n",
       "  specific estimator or a Pipeline/ColumnTransformer */\n",
       "  background-color: var(--sklearn-color-background);\n",
       "}\n",
       "\n",
       "/* Toggleable label */\n",
       "#sk-container-id-1 label.sk-toggleable__label {\n",
       "  cursor: pointer;\n",
       "  display: block;\n",
       "  width: 100%;\n",
       "  margin-bottom: 0;\n",
       "  padding: 0.5em;\n",
       "  box-sizing: border-box;\n",
       "  text-align: center;\n",
       "}\n",
       "\n",
       "#sk-container-id-1 label.sk-toggleable__label-arrow:before {\n",
       "  /* Arrow on the left of the label */\n",
       "  content: \"▸\";\n",
       "  float: left;\n",
       "  margin-right: 0.25em;\n",
       "  color: var(--sklearn-color-icon);\n",
       "}\n",
       "\n",
       "#sk-container-id-1 label.sk-toggleable__label-arrow:hover:before {\n",
       "  color: var(--sklearn-color-text);\n",
       "}\n",
       "\n",
       "/* Toggleable content - dropdown */\n",
       "\n",
       "#sk-container-id-1 div.sk-toggleable__content {\n",
       "  max-height: 0;\n",
       "  max-width: 0;\n",
       "  overflow: hidden;\n",
       "  text-align: left;\n",
       "  /* unfitted */\n",
       "  background-color: var(--sklearn-color-unfitted-level-0);\n",
       "}\n",
       "\n",
       "#sk-container-id-1 div.sk-toggleable__content.fitted {\n",
       "  /* fitted */\n",
       "  background-color: var(--sklearn-color-fitted-level-0);\n",
       "}\n",
       "\n",
       "#sk-container-id-1 div.sk-toggleable__content pre {\n",
       "  margin: 0.2em;\n",
       "  border-radius: 0.25em;\n",
       "  color: var(--sklearn-color-text);\n",
       "  /* unfitted */\n",
       "  background-color: var(--sklearn-color-unfitted-level-0);\n",
       "}\n",
       "\n",
       "#sk-container-id-1 div.sk-toggleable__content.fitted pre {\n",
       "  /* unfitted */\n",
       "  background-color: var(--sklearn-color-fitted-level-0);\n",
       "}\n",
       "\n",
       "#sk-container-id-1 input.sk-toggleable__control:checked~div.sk-toggleable__content {\n",
       "  /* Expand drop-down */\n",
       "  max-height: 200px;\n",
       "  max-width: 100%;\n",
       "  overflow: auto;\n",
       "}\n",
       "\n",
       "#sk-container-id-1 input.sk-toggleable__control:checked~label.sk-toggleable__label-arrow:before {\n",
       "  content: \"▾\";\n",
       "}\n",
       "\n",
       "/* Pipeline/ColumnTransformer-specific style */\n",
       "\n",
       "#sk-container-id-1 div.sk-label input.sk-toggleable__control:checked~label.sk-toggleable__label {\n",
       "  color: var(--sklearn-color-text);\n",
       "  background-color: var(--sklearn-color-unfitted-level-2);\n",
       "}\n",
       "\n",
       "#sk-container-id-1 div.sk-label.fitted input.sk-toggleable__control:checked~label.sk-toggleable__label {\n",
       "  background-color: var(--sklearn-color-fitted-level-2);\n",
       "}\n",
       "\n",
       "/* Estimator-specific style */\n",
       "\n",
       "/* Colorize estimator box */\n",
       "#sk-container-id-1 div.sk-estimator input.sk-toggleable__control:checked~label.sk-toggleable__label {\n",
       "  /* unfitted */\n",
       "  background-color: var(--sklearn-color-unfitted-level-2);\n",
       "}\n",
       "\n",
       "#sk-container-id-1 div.sk-estimator.fitted input.sk-toggleable__control:checked~label.sk-toggleable__label {\n",
       "  /* fitted */\n",
       "  background-color: var(--sklearn-color-fitted-level-2);\n",
       "}\n",
       "\n",
       "#sk-container-id-1 div.sk-label label.sk-toggleable__label,\n",
       "#sk-container-id-1 div.sk-label label {\n",
       "  /* The background is the default theme color */\n",
       "  color: var(--sklearn-color-text-on-default-background);\n",
       "}\n",
       "\n",
       "/* On hover, darken the color of the background */\n",
       "#sk-container-id-1 div.sk-label:hover label.sk-toggleable__label {\n",
       "  color: var(--sklearn-color-text);\n",
       "  background-color: var(--sklearn-color-unfitted-level-2);\n",
       "}\n",
       "\n",
       "/* Label box, darken color on hover, fitted */\n",
       "#sk-container-id-1 div.sk-label.fitted:hover label.sk-toggleable__label.fitted {\n",
       "  color: var(--sklearn-color-text);\n",
       "  background-color: var(--sklearn-color-fitted-level-2);\n",
       "}\n",
       "\n",
       "/* Estimator label */\n",
       "\n",
       "#sk-container-id-1 div.sk-label label {\n",
       "  font-family: monospace;\n",
       "  font-weight: bold;\n",
       "  display: inline-block;\n",
       "  line-height: 1.2em;\n",
       "}\n",
       "\n",
       "#sk-container-id-1 div.sk-label-container {\n",
       "  text-align: center;\n",
       "}\n",
       "\n",
       "/* Estimator-specific */\n",
       "#sk-container-id-1 div.sk-estimator {\n",
       "  font-family: monospace;\n",
       "  border: 1px dotted var(--sklearn-color-border-box);\n",
       "  border-radius: 0.25em;\n",
       "  box-sizing: border-box;\n",
       "  margin-bottom: 0.5em;\n",
       "  /* unfitted */\n",
       "  background-color: var(--sklearn-color-unfitted-level-0);\n",
       "}\n",
       "\n",
       "#sk-container-id-1 div.sk-estimator.fitted {\n",
       "  /* fitted */\n",
       "  background-color: var(--sklearn-color-fitted-level-0);\n",
       "}\n",
       "\n",
       "/* on hover */\n",
       "#sk-container-id-1 div.sk-estimator:hover {\n",
       "  /* unfitted */\n",
       "  background-color: var(--sklearn-color-unfitted-level-2);\n",
       "}\n",
       "\n",
       "#sk-container-id-1 div.sk-estimator.fitted:hover {\n",
       "  /* fitted */\n",
       "  background-color: var(--sklearn-color-fitted-level-2);\n",
       "}\n",
       "\n",
       "/* Specification for estimator info (e.g. \"i\" and \"?\") */\n",
       "\n",
       "/* Common style for \"i\" and \"?\" */\n",
       "\n",
       ".sk-estimator-doc-link,\n",
       "a:link.sk-estimator-doc-link,\n",
       "a:visited.sk-estimator-doc-link {\n",
       "  float: right;\n",
       "  font-size: smaller;\n",
       "  line-height: 1em;\n",
       "  font-family: monospace;\n",
       "  background-color: var(--sklearn-color-background);\n",
       "  border-radius: 1em;\n",
       "  height: 1em;\n",
       "  width: 1em;\n",
       "  text-decoration: none !important;\n",
       "  margin-left: 1ex;\n",
       "  /* unfitted */\n",
       "  border: var(--sklearn-color-unfitted-level-1) 1pt solid;\n",
       "  color: var(--sklearn-color-unfitted-level-1);\n",
       "}\n",
       "\n",
       ".sk-estimator-doc-link.fitted,\n",
       "a:link.sk-estimator-doc-link.fitted,\n",
       "a:visited.sk-estimator-doc-link.fitted {\n",
       "  /* fitted */\n",
       "  border: var(--sklearn-color-fitted-level-1) 1pt solid;\n",
       "  color: var(--sklearn-color-fitted-level-1);\n",
       "}\n",
       "\n",
       "/* On hover */\n",
       "div.sk-estimator:hover .sk-estimator-doc-link:hover,\n",
       ".sk-estimator-doc-link:hover,\n",
       "div.sk-label-container:hover .sk-estimator-doc-link:hover,\n",
       ".sk-estimator-doc-link:hover {\n",
       "  /* unfitted */\n",
       "  background-color: var(--sklearn-color-unfitted-level-3);\n",
       "  color: var(--sklearn-color-background);\n",
       "  text-decoration: none;\n",
       "}\n",
       "\n",
       "div.sk-estimator.fitted:hover .sk-estimator-doc-link.fitted:hover,\n",
       ".sk-estimator-doc-link.fitted:hover,\n",
       "div.sk-label-container:hover .sk-estimator-doc-link.fitted:hover,\n",
       ".sk-estimator-doc-link.fitted:hover {\n",
       "  /* fitted */\n",
       "  background-color: var(--sklearn-color-fitted-level-3);\n",
       "  color: var(--sklearn-color-background);\n",
       "  text-decoration: none;\n",
       "}\n",
       "\n",
       "/* Span, style for the box shown on hovering the info icon */\n",
       ".sk-estimator-doc-link span {\n",
       "  display: none;\n",
       "  z-index: 9999;\n",
       "  position: relative;\n",
       "  font-weight: normal;\n",
       "  right: .2ex;\n",
       "  padding: .5ex;\n",
       "  margin: .5ex;\n",
       "  width: min-content;\n",
       "  min-width: 20ex;\n",
       "  max-width: 50ex;\n",
       "  color: var(--sklearn-color-text);\n",
       "  box-shadow: 2pt 2pt 4pt #999;\n",
       "  /* unfitted */\n",
       "  background: var(--sklearn-color-unfitted-level-0);\n",
       "  border: .5pt solid var(--sklearn-color-unfitted-level-3);\n",
       "}\n",
       "\n",
       ".sk-estimator-doc-link.fitted span {\n",
       "  /* fitted */\n",
       "  background: var(--sklearn-color-fitted-level-0);\n",
       "  border: var(--sklearn-color-fitted-level-3);\n",
       "}\n",
       "\n",
       ".sk-estimator-doc-link:hover span {\n",
       "  display: block;\n",
       "}\n",
       "\n",
       "/* \"?\"-specific style due to the `<a>` HTML tag */\n",
       "\n",
       "#sk-container-id-1 a.estimator_doc_link {\n",
       "  float: right;\n",
       "  font-size: 1rem;\n",
       "  line-height: 1em;\n",
       "  font-family: monospace;\n",
       "  background-color: var(--sklearn-color-background);\n",
       "  border-radius: 1rem;\n",
       "  height: 1rem;\n",
       "  width: 1rem;\n",
       "  text-decoration: none;\n",
       "  /* unfitted */\n",
       "  color: var(--sklearn-color-unfitted-level-1);\n",
       "  border: var(--sklearn-color-unfitted-level-1) 1pt solid;\n",
       "}\n",
       "\n",
       "#sk-container-id-1 a.estimator_doc_link.fitted {\n",
       "  /* fitted */\n",
       "  border: var(--sklearn-color-fitted-level-1) 1pt solid;\n",
       "  color: var(--sklearn-color-fitted-level-1);\n",
       "}\n",
       "\n",
       "/* On hover */\n",
       "#sk-container-id-1 a.estimator_doc_link:hover {\n",
       "  /* unfitted */\n",
       "  background-color: var(--sklearn-color-unfitted-level-3);\n",
       "  color: var(--sklearn-color-background);\n",
       "  text-decoration: none;\n",
       "}\n",
       "\n",
       "#sk-container-id-1 a.estimator_doc_link.fitted:hover {\n",
       "  /* fitted */\n",
       "  background-color: var(--sklearn-color-fitted-level-3);\n",
       "}\n",
       "</style><div id=\"sk-container-id-1\" class=\"sk-top-container\"><div class=\"sk-text-repr-fallback\"><pre>SVC(kernel=&#x27;linear&#x27;)</pre><b>In a Jupyter environment, please rerun this cell to show the HTML representation or trust the notebook. <br />On GitHub, the HTML representation is unable to render, please try loading this page with nbviewer.org.</b></div><div class=\"sk-container\" hidden><div class=\"sk-item\"><div class=\"sk-estimator fitted sk-toggleable\"><input class=\"sk-toggleable__control sk-hidden--visually\" id=\"sk-estimator-id-1\" type=\"checkbox\" checked><label for=\"sk-estimator-id-1\" class=\"sk-toggleable__label fitted sk-toggleable__label-arrow fitted\">&nbsp;&nbsp;SVC<a class=\"sk-estimator-doc-link fitted\" rel=\"noreferrer\" target=\"_blank\" href=\"https://scikit-learn.org/1.4/modules/generated/sklearn.svm.SVC.html\">?<span>Documentation for SVC</span></a><span class=\"sk-estimator-doc-link fitted\">i<span>Fitted</span></span></label><div class=\"sk-toggleable__content fitted\"><pre>SVC(kernel=&#x27;linear&#x27;)</pre></div> </div></div></div></div>"
      ],
      "text/plain": [
       "SVC(kernel='linear')"
      ]
     },
     "execution_count": 21,
     "metadata": {},
     "output_type": "execute_result"
    }
   ],
   "source": [
    "# Đào tạo mô hình SVM\n",
    "model = SVC(kernel='linear')\n",
    "model.fit(X_train, y_train)"
   ]
  },
  {
   "cell_type": "code",
   "execution_count": 22,
   "metadata": {},
   "outputs": [],
   "source": [
    "# Dự đoán trên tập kiểm tra\n",
    "y_pred = model.predict(X_test)"
   ]
  },
  {
   "cell_type": "code",
   "execution_count": 23,
   "metadata": {},
   "outputs": [
    {
     "name": "stdout",
     "output_type": "stream",
     "text": [
      "Accuracy: 96.00%\n"
     ]
    }
   ],
   "source": [
    "# Đánh giá mô hình\n",
    "accuracy = accuracy_score(y_test, y_pred)\n",
    "print(f\"Accuracy: {accuracy * 100:.2f}%\")"
   ]
  },
  {
   "cell_type": "code",
   "execution_count": 24,
   "metadata": {},
   "outputs": [
    {
     "data": {
      "text/plain": [
       "['svm_hand_pre_model.pkl']"
      ]
     },
     "execution_count": 24,
     "metadata": {},
     "output_type": "execute_result"
    }
   ],
   "source": [
    "# Lưu mô hình đã đào tạo\n",
    "joblib.dump(model, 'svm_hand_pre_model.pkl')"
   ]
  },
  {
   "cell_type": "code",
   "execution_count": 25,
   "metadata": {},
   "outputs": [
    {
     "name": "stdout",
     "output_type": "stream",
     "text": [
      "Số lượng dữ liệu ảnh bị dự đoán sai trong mô hình: 4\n",
      "ID ảnh bị dự đoán sai trong mô hình: [2510, 2545, 2568, 2595]\n"
     ]
    }
   ],
   "source": [
    "# Hiển thị số lượng dữ liệu ảnh và ID ảnh bị dự đoán sai trong mô hình\n",
    "misclassified_images = []\n",
    "for true_label, predicted_label, index in zip(y_test, y_pred, range(len(y_test))):\n",
    "    image_id = data.iloc[index]['ID']\n",
    "    if true_label != predicted_label:\n",
    "        misclassified_images.append(image_id)\n",
    "\n",
    "print(\"Số lượng dữ liệu ảnh bị dự đoán sai trong mô hình:\", len(misclassified_images))\n",
    "print(\"ID ảnh bị dự đoán sai trong mô hình:\", misclassified_images)\n"
   ]
  },
  {
   "cell_type": "code",
   "execution_count": 26,
   "metadata": {},
   "outputs": [
    {
     "name": "stdout",
     "output_type": "stream",
     "text": [
      "Classification Report:\n",
      "              precision    recall  f1-score   support\n",
      "\n",
      "           P       0.00      0.00      0.00         3\n",
      "           T       0.96      1.00      0.98        96\n",
      "           p       0.00      0.00      0.00         1\n",
      "\n",
      "    accuracy                           0.96       100\n",
      "   macro avg       0.32      0.33      0.33       100\n",
      "weighted avg       0.92      0.96      0.94       100\n",
      "\n"
     ]
    },
    {
     "name": "stderr",
     "output_type": "stream",
     "text": [
      "c:\\Users\\Quang Huy\\AppData\\Local\\Programs\\Python\\Python312\\Lib\\site-packages\\sklearn\\metrics\\_classification.py:1509: UndefinedMetricWarning: Precision is ill-defined and being set to 0.0 in labels with no predicted samples. Use `zero_division` parameter to control this behavior.\n",
      "  _warn_prf(average, modifier, f\"{metric.capitalize()} is\", len(result))\n",
      "c:\\Users\\Quang Huy\\AppData\\Local\\Programs\\Python\\Python312\\Lib\\site-packages\\sklearn\\metrics\\_classification.py:1509: UndefinedMetricWarning: Precision is ill-defined and being set to 0.0 in labels with no predicted samples. Use `zero_division` parameter to control this behavior.\n",
      "  _warn_prf(average, modifier, f\"{metric.capitalize()} is\", len(result))\n",
      "c:\\Users\\Quang Huy\\AppData\\Local\\Programs\\Python\\Python312\\Lib\\site-packages\\sklearn\\metrics\\_classification.py:1509: UndefinedMetricWarning: Precision is ill-defined and being set to 0.0 in labels with no predicted samples. Use `zero_division` parameter to control this behavior.\n",
      "  _warn_prf(average, modifier, f\"{metric.capitalize()} is\", len(result))\n"
     ]
    }
   ],
   "source": [
    "# Hiển thị báo cáo phân loại\n",
    "print(\"Classification Report:\")\n",
    "print(classification_report(y_test, y_pred, labels=np.arange(len(label_encoder.classes_)), target_names=label_encoder.classes_))"
   ]
  },
  {
   "cell_type": "code",
   "execution_count": 27,
   "metadata": {},
   "outputs": [
    {
     "data": {
      "image/png": "[encoded data removed]",
      "text/plain": [
       "<Figure size 640x480 with 1 Axes>"
      ]
     },
     "metadata": {},
     "output_type": "display_data"
    }
   ],
   "source": [
    "#đọc ảnh được đào tạo trong thư mục\n",
    "import matplotlib.pyplot as plt\n",
    "\n",
    "# Đọc ảnh bất kỳ từ thư mục train1\n",
    "random_image_path = 'train1/2813.png'  # Đường dẫn đến ảnh bất kỳ trong thư mục train1\n",
    "random_image = cv2.imread(random_image_path, cv2.IMREAD_GRAYSCALE)\n",
    "random_image = cv2.resize(random_image, (64,64))  # Chuẩn hóa kích thước hình ảnh về 64x64\n",
    "\n",
    "# Dự đoán loại của hình ảnh bằng mô hình đã đào tạo\n",
    "predicted_label = model.predict(random_image.reshape(1, -1))\n",
    "predicted_label = label_encoder.inverse_transform(predicted_label)[0]  # Chuyển đổi nhãn ngược lại thành chuỗi\n",
    "\n",
    "# Hiển thị hình ảnh và nhãn tương ứng\n",
    "plt.imshow(random_image, cmap='gray')\n",
    "plt.title(f\"Predicted Label: {predicted_label}\")\n",
    "plt.axis('off')\n",
    "plt.show()\n"
   ]
  },
  {
   "cell_type": "code",
   "execution_count": 28,
   "metadata": {},
   "outputs": [
    {
     "data": {
      "image/png": "[encoded data removed]",
      "text/plain": [
       "<Figure size 800x600 with 1 Axes>"
      ]
     },
     "metadata": {},
     "output_type": "display_data"
    }
   ],
   "source": [
    "# Hiển thị biểu đồ phân loại\n",
    "plt.figure(figsize=(8, 6))\n",
    "labels = label_encoder.classes_\n",
    "count_labels = [np.sum(y == label_encoder.transform([label])[0]) for label in labels]\n",
    "plt.bar(labels, count_labels, color=['blue', 'green', 'orange'])\n",
    "plt.xlabel('Class')\n",
    "plt.ylabel('Count')\n",
    "plt.title('Classification Distribution')\n",
    "plt.show()\n"
   ]
  },
  {
   "cell_type": "code",
   "execution_count": 29,
   "metadata": {},
   "outputs": [
    {
     "name": "stdout",
     "output_type": "stream",
     "text": [
      "Số lượng tay trái (T) trước khi dự đoán: 483\n",
      "Số lượng tay phải (P) trước khi dự đoán: 16\n",
      "Số lượng cả hai tay (2) trước khi dự đoán: 0\n",
      "Số lượng tay trái (T) sau khi dự đoán: 487\n",
      "Số lượng tay phải (P) sau khi dự đoán: 13\n",
      "Số lượng cả hai tay (2) sau khi dự đoán: 0\n"
     ]
    }
   ],
   "source": [
    "# Hàm để đếm số lượng tay trái, tay phải và cả hai tay\n",
    "def count_hand_labels(labels):\n",
    "    left_hand_count = np.count_nonzero(labels == 'T')\n",
    "    right_hand_count = np.count_nonzero(labels == 'P')\n",
    "    both_hands_count = np.count_nonzero(labels == '2')\n",
    "    return left_hand_count, right_hand_count, both_hands_count\n",
    "\n",
    "# Đọc dữ liệu\n",
    "data = pd.read_csv('TayTraiPhai2_1.3_PhanQuangHuy_21SE2_tayall.csv')\n",
    "\n",
    "# Đọc dữ liệu ảnh và nhãn\n",
    "images = []\n",
    "labels = []\n",
    "\n",
    "for index, row in data.iterrows():\n",
    "    if row['Folder'] == 'train1':\n",
    "        image_path = f\"{output_folder}/{row['ID']}.png\"\n",
    "        image = cv2.imread(image_path, cv2.IMREAD_GRAYSCALE)\n",
    "        if image is not None:\n",
    "            image = cv2.resize(image, (64, 64))\n",
    "            images.append(image)\n",
    "            labels.append(row['Tay T (trai)/P (phai)/2 (ca 2 tay)'])\n",
    "\n",
    "# Chuyển đổi danh sách hình ảnh và nhãn thành mảng numpy\n",
    "X = np.array(images)\n",
    "y = np.array(labels)\n",
    "\n",
    "# Chuyển đổi nhãn thành số nguyên\n",
    "label_encoder = LabelEncoder()\n",
    "y = label_encoder.fit_transform(y)\n",
    "\n",
    "# Tính số lượng tay trái, tay phải và cả hai tay trước khi dự đoán\n",
    "left_count_before, right_count_before, both_count_before = count_hand_labels(label_encoder.inverse_transform(y))\n",
    "\n",
    "# Dự đoán\n",
    "y_pred = model.predict(X.reshape(X.shape[0], -1))\n",
    "\n",
    "# Tính số lượng tay trái, tay phải và cả hai tay sau khi dự đoán\n",
    "left_count_after, right_count_after, both_count_after = count_hand_labels(label_encoder.inverse_transform(y_pred))\n",
    "\n",
    "# Hiển thị số lượng tay trái, tay phải và cả hai tay trước và sau khi dự đoán\n",
    "print(\"Số lượng tay trái (T) trước khi dự đoán:\", left_count_before)\n",
    "print(\"Số lượng tay phải (P) trước khi dự đoán:\", right_count_before)\n",
    "print(\"Số lượng cả hai tay (2) trước khi dự đoán:\", both_count_before)\n",
    "print(\"Số lượng tay trái (T) sau khi dự đoán:\", left_count_after)\n",
    "print(\"Số lượng tay phải (P) sau khi dự đoán:\", right_count_after)\n",
    "print(\"Số lượng cả hai tay (2) sau khi dự đoán:\", both_count_after)\n"
   ]
  },
  {
   "cell_type": "code",
   "execution_count": 30,
   "metadata": {},
   "outputs": [
    {
     "data": {
      "image/png": "[encoded data removed]",
      "text/plain": [
       "<Figure size 1000x600 with 1 Axes>"
      ]
     },
     "metadata": {},
     "output_type": "display_data"
    }
   ],
   "source": [
    "import matplotlib.pyplot as plt\n",
    "\n",
    "# Số lượng tay trái, tay phải và cả hai tay trước và sau khi dự đoán\n",
    "labels = ['Left Hand (T)', 'Right Hand (P)', 'Both Hands (2)']\n",
    "before_prediction = [left_count_before, right_count_before, both_count_before]\n",
    "after_prediction = [left_count_after, right_count_after, both_count_after]\n",
    "\n",
    "x = range(len(labels))\n",
    "\n",
    "# Vẽ biểu đồ\n",
    "plt.figure(figsize=(10, 6))\n",
    "plt.bar(x, before_prediction, width=0.4, label='Before Prediction', color='skyblue')\n",
    "plt.bar([i + 0.4 for i in x], after_prediction, width=0.4, label='After Prediction', color='lightgreen')\n",
    "plt.xlabel('Hand Labels')\n",
    "plt.ylabel('Count')\n",
    "plt.title('Hand Count Before and After Prediction')\n",
    "plt.xticks([i + 0.2 for i in x], labels)\n",
    "plt.legend()\n",
    "plt.show()\n"
   ]
  },
  {
   "cell_type": "code",
   "execution_count": 31,
   "metadata": {},
   "outputs": [
    {
     "data": {
      "image/png": "[encoded data removed]",
      "text/plain": [
       "<Figure size 800x800 with 1 Axes>"
      ]
     },
     "metadata": {},
     "output_type": "display_data"
    },
    {
     "data": {
      "image/png": "[encoded data removed]",
      "text/plain": [
       "<Figure size 800x800 with 1 Axes>"
      ]
     },
     "metadata": {},
     "output_type": "display_data"
    }
   ],
   "source": [
    "import matplotlib.pyplot as plt\n",
    "\n",
    "# Số lượng tay trái, tay phải và cả hai tay trước và sau khi dự đoán\n",
    "labels = ['Left Hand (T)', 'Right Hand (P)', 'Both Hands (2)']\n",
    "before_prediction = [left_count_before, right_count_before, both_count_before]\n",
    "after_prediction = [left_count_after, right_count_after, both_count_after]\n",
    "\n",
    "# Vẽ biểu đồ dạng tròn\n",
    "plt.figure(figsize=(8, 8))\n",
    "plt.pie(before_prediction, labels=labels, autopct='%1.1f%%', startangle=140, colors=['lightblue', 'lightgreen', 'lightsalmon'])\n",
    "plt.title('Hand Count Before Prediction')\n",
    "plt.axis('equal')\n",
    "plt.show()\n",
    "\n",
    "plt.figure(figsize=(8, 8))\n",
    "plt.pie(after_prediction, labels=labels, autopct='%1.1f%%', startangle=140, colors=['lightblue', 'lightgreen', 'lightsalmon'])\n",
    "plt.title('Hand Count After Prediction')\n",
    "plt.axis('equal')\n",
    "plt.show()\n"
   ]
  },
  {
   "cell_type": "code",
   "execution_count": 32,
   "metadata": {},
   "outputs": [
    {
     "data": {
      "image/png": "[encoded data removed]",
      "text/plain": [
       "<Figure size 640x480 with 1 Axes>"
      ]
     },
     "metadata": {},
     "output_type": "display_data"
    },
    {
     "data": {
      "image/png": "[encoded data removed]",
      "text/plain": [
       "<Figure size 640x480 with 1 Axes>"
      ]
     },
     "metadata": {},
     "output_type": "display_data"
    },
    {
     "data": {
      "image/png": "[encoded data removed]",
      "text/plain": [
       "<Figure size 640x480 with 1 Axes>"
      ]
     },
     "metadata": {},
     "output_type": "display_data"
    },
    {
     "data": {
      "image/png": "[encoded data removed]",
      "text/plain": [
       "<Figure size 640x480 with 1 Axes>"
      ]
     },
     "metadata": {},
     "output_type": "display_data"
    }
   ],
   "source": [
    "def show_misclassified_images(images, true_labels, predicted_labels, label_encoder):\n",
    "    misclassified_indices = (true_labels != predicted_labels)\n",
    "    misclassified_images = images[misclassified_indices]\n",
    "    true_labels_misclassified = true_labels[misclassified_indices]\n",
    "    predicted_labels_misclassified = predicted_labels[misclassified_indices]\n",
    "    \n",
    "    for i in range(len(misclassified_images)):\n",
    "        image = misclassified_images[i].reshape(64, 64)  # Chuyển đổi lại kích thước ảnh\n",
    "        true_label = label_encoder.inverse_transform([true_labels_misclassified[i]])[0]\n",
    "        predicted_label = label_encoder.inverse_transform([predicted_labels_misclassified[i]])[0]\n",
    "        \n",
    "        plt.imshow(image, cmap='gray')\n",
    "        plt.title(f'True Label: {true_label}\\nPredicted Label: {predicted_label}')\n",
    "        plt.axis('off')\n",
    "        plt.show()\n",
    "\n",
    "# Sử dụng hàm\n",
    "show_misclassified_images(X_test, y_test, model.predict(X_test.reshape(X_test.shape[0], -1)), label_encoder)\n"
   ]
  }
 ],
 "metadata": {
  "kernelspec": {
   "display_name": "Python 3",
   "language": "python",
   "name": "python3"
  },
  "language_info": {
   "codemirror_mode": {
    "name": "ipython",
    "version": 3
   },
   "file_extension": ".py",
   "mimetype": "text/x-python",
   "name": "python",
   "nbconvert_exporter": "python",
   "pygments_lexer": "ipython3",
   "version": "3.12.1"
  }
 },
 "nbformat": 4,
 "nbformat_minor": 2
}
