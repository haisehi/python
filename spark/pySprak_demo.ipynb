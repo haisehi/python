{
 "cells": [
  {
   "cell_type": "code",
   "execution_count": 1,
   "id": "2d7f8be6-6c04-4eae-9a7f-162b470f27c3",
   "metadata": {},
   "outputs": [
    {
     "name": "stdout",
     "output_type": "stream",
     "text": [
      "root\n",
      " |-- firstname: string (nullable = true)\n",
      " |-- middlename: string (nullable = true)\n",
      " |-- lastname: string (nullable = true)\n",
      " |-- dob: string (nullable = true)\n",
      " |-- gender: string (nullable = true)\n",
      " |-- salary: long (nullable = true)\n",
      "\n",
      "None\n"
     ]
    }
   ],
   "source": [
    "from pyspark.sql import SparkSession\n",
    "\n",
    "spark = SparkSession.builder\\\n",
    "    .master(\"local\")\\\n",
    "        .appName(\"test\")\\\n",
    "            .getOrCreate()\n",
    "\n",
    "data = [\n",
    "    ('Jame','','Smith','1991-04-01','M',3000),\n",
    "    ('John','','Smith','1991-06-02','M',3000),\n",
    "    ('Tom','','Guy','1992-02-01','M',3000),\n",
    "    ('Alex','','jitm','1992-04-05','M',3000),\n",
    "    ('Gome','','Gomez','1993-02-01','F',3000),\n",
    "]\n",
    "\n",
    "columns = [\"firstname\",\"middlename\",\"lastname\",\"dob\",\"gender\",\"salary\"]\n",
    "\n",
    "df = spark.createDataFrame(data=data,schema=columns)\n",
    "print(df.printSchema())"
   ]
  },
  {
   "cell_type": "code",
   "execution_count": null,
   "id": "f53c4692-f60c-4060-bd09-c7d7bc48c8fe",
   "metadata": {},
   "outputs": [],
   "source": []
  }
 ],
 "metadata": {
  "kernelspec": {
   "display_name": "Python 3 (ipykernel)",
   "language": "python",
   "name": "python3"
  },
  "language_info": {
   "codemirror_mode": {
    "name": "ipython",
    "version": 3
   },
   "file_extension": ".py",
   "mimetype": "text/x-python",
   "name": "python",
   "nbconvert_exporter": "python",
   "pygments_lexer": "ipython3",
   "version": "3.12.1"
  }
 },
 "nbformat": 4,
 "nbformat_minor": 5
}
