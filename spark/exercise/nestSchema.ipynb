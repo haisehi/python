{
 "cells": [
  {
   "cell_type": "code",
   "execution_count": 26,
   "metadata": {},
   "outputs": [],
   "source": [
    "from pyspark.sql import SparkSession\n",
    "from pyspark.sql.types import StructType,StructField,LongType,StringType\n",
    "import pyspark.sql.functions as func\n",
    "\n",
    "spark = SparkSession.\\\n",
    "    builder .\\\n",
    "    appName(\"Nested Spark\") .\\\n",
    "    getOrCreate()"
   ]
  },
  {
   "cell_type": "code",
   "execution_count": 33,
   "metadata": {},
   "outputs": [],
   "source": [
    "# customerSchema = \"cust_id long, full_name struct<first_name: string, last_name: string>, city string\"\n",
    "customerSchema = StructType([\\\n",
    "    StructField(\"cust_id\",LongType()),\n",
    "    StructField(\"full_name\",StructType([StructField(\"first_name\",StringType()),StructField(\"last_name\",StringType())])),\n",
    "    StructField(\"city\",StringType()),\n",
    "    ])"
   ]
  },
  {
   "cell_type": "code",
   "execution_count": 34,
   "metadata": {},
   "outputs": [],
   "source": [
    "# df = spark.read.format(\"json\").schema(customerSchema).load(\"customer_nested.json\")\n",
    "df = spark.read.format('json').\\\n",
    "schema(customerSchema).\\\n",
    "option('inferSchema','False').\\\n",
    "option('path','file:///D:/code/python/spark/exercise/customer_nested.json').\\\n",
    "load()"
   ]
  },
  {
   "cell_type": "code",
   "execution_count": 35,
   "metadata": {},
   "outputs": [
    {
     "name": "stdout",
     "output_type": "stream",
     "text": [
      "+-------+---------+----+\n",
      "|cust_id|full_name|city|\n",
      "+-------+---------+----+\n",
      "|   NULL|     NULL|NULL|\n",
      "|   NULL|     NULL|NULL|\n",
      "|   NULL|     NULL|NULL|\n",
      "|   NULL|     NULL|NULL|\n",
      "|   NULL|     NULL|NULL|\n",
      "|   NULL|     NULL|NULL|\n",
      "|   NULL|     NULL|NULL|\n",
      "|   NULL|     NULL|NULL|\n",
      "|   NULL|     NULL|NULL|\n",
      "|   NULL|     NULL|NULL|\n",
      "|   NULL|     NULL|NULL|\n",
      "|   NULL|     NULL|NULL|\n",
      "|   NULL|     NULL|NULL|\n",
      "|   NULL|     NULL|NULL|\n",
      "|   NULL|     NULL|NULL|\n",
      "|   NULL|     NULL|NULL|\n",
      "|   NULL|     NULL|NULL|\n",
      "|   NULL|     NULL|NULL|\n",
      "|   NULL|     NULL|NULL|\n",
      "|   NULL|     NULL|NULL|\n",
      "+-------+---------+----+\n",
      "\n"
     ]
    }
   ],
   "source": [
    "df.show()"
   ]
  },
  {
   "cell_type": "code",
   "execution_count": 36,
   "metadata": {},
   "outputs": [
    {
     "name": "stdout",
     "output_type": "stream",
     "text": [
      "root\n",
      " |-- cust_id: long (nullable = true)\n",
      " |-- full_name: struct (nullable = true)\n",
      " |    |-- first_name: string (nullable = true)\n",
      " |    |-- last_name: string (nullable = true)\n",
      " |-- city: string (nullable = true)\n",
      "\n"
     ]
    }
   ],
   "source": [
    "df.printSchema()"
   ]
  },
  {
   "cell_type": "code",
   "execution_count": 40,
   "metadata": {},
   "outputs": [],
   "source": [
    "df.createOrReplaceTempView(\"customer\")"
   ]
  },
  {
   "cell_type": "code",
   "execution_count": 41,
   "metadata": {},
   "outputs": [
    {
     "name": "stdout",
     "output_type": "stream",
     "text": [
      "+-------+---------+----+\n",
      "|cust_id|full_name|city|\n",
      "+-------+---------+----+\n",
      "|   NULL|     NULL|NULL|\n",
      "|   NULL|     NULL|NULL|\n",
      "|   NULL|     NULL|NULL|\n",
      "|   NULL|     NULL|NULL|\n",
      "|   NULL|     NULL|NULL|\n",
      "|   NULL|     NULL|NULL|\n",
      "|   NULL|     NULL|NULL|\n",
      "|   NULL|     NULL|NULL|\n",
      "|   NULL|     NULL|NULL|\n",
      "|   NULL|     NULL|NULL|\n",
      "|   NULL|     NULL|NULL|\n",
      "|   NULL|     NULL|NULL|\n",
      "|   NULL|     NULL|NULL|\n",
      "|   NULL|     NULL|NULL|\n",
      "|   NULL|     NULL|NULL|\n",
      "|   NULL|     NULL|NULL|\n",
      "|   NULL|     NULL|NULL|\n",
      "|   NULL|     NULL|NULL|\n",
      "|   NULL|     NULL|NULL|\n",
      "|   NULL|     NULL|NULL|\n",
      "+-------+---------+----+\n",
      "\n"
     ]
    }
   ],
   "source": [
    "spark.sql(\"select * from customer\").show()"
   ]
  }
 ],
 "metadata": {
  "kernelspec": {
   "display_name": "Python 3",
   "language": "python",
   "name": "python3"
  },
  "language_info": {
   "codemirror_mode": {
    "name": "ipython",
    "version": 3
   },
   "file_extension": ".py",
   "mimetype": "text/x-python",
   "name": "python",
   "nbconvert_exporter": "python",
   "pygments_lexer": "ipython3",
   "version": "3.12.1"
  }
 },
 "nbformat": 4,
 "nbformat_minor": 2
}
