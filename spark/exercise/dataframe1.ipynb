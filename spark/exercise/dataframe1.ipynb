{
 "cells": [
  {
   "cell_type": "code",
   "execution_count": 39,
   "metadata": {},
   "outputs": [],
   "source": [
    "from pyspark.sql import SparkSession\n",
    "spark = SparkSession.builder.appName(\"DF basic\").getOrCreate()"
   ]
  },
  {
   "cell_type": "code",
   "execution_count": 40,
   "metadata": {},
   "outputs": [],
   "source": [
    "orders_df = spark.read \\\n",
    ".format(\"csv\") \\\n",
    ".option(\"header\", \"true\") \\\n",
    ".option(\"inferSchema\", \"true\") \\\n",
    ".load(\"orders_wh.csv\")"
   ]
  },
  {
   "cell_type": "code",
   "execution_count": 41,
   "metadata": {},
   "outputs": [
    {
     "name": "stdout",
     "output_type": "stream",
     "text": [
      "+--------+------------+-----------+---------------+\n",
      "|order_id|  order_date|customer_id|   order_status|\n",
      "+--------+------------+-----------+---------------+\n",
      "|       1|7/25/13 0:00|      11599|         CLOSED|\n",
      "|       2|7/25/13 0:00|        256|PENDING_PAYMENT|\n",
      "|       3|7/25/13 0:00|      12111|       COMPLETE|\n",
      "|       4|7/25/13 0:00|       8827|         CLOSED|\n",
      "|       5|7/25/13 0:00|      11318|       COMPLETE|\n",
      "+--------+------------+-----------+---------------+\n",
      "only showing top 5 rows\n",
      "\n"
     ]
    }
   ],
   "source": [
    "orders_df.show(5)"
   ]
  },
  {
   "cell_type": "code",
   "execution_count": 42,
   "metadata": {},
   "outputs": [
    {
     "name": "stdout",
     "output_type": "stream",
     "text": [
      "root\n",
      " |-- order_id: integer (nullable = true)\n",
      " |-- order_date: string (nullable = true)\n",
      " |-- customer_id: integer (nullable = true)\n",
      " |-- order_status: string (nullable = true)\n",
      "\n"
     ]
    }
   ],
   "source": [
    "#printSchema dùng để xem cấu trúc dữ liệu\n",
    "orders_df.printSchema()"
   ]
  },
  {
   "cell_type": "code",
   "execution_count": 43,
   "metadata": {},
   "outputs": [],
   "source": [
    "from pyspark.sql.functions import *"
   ]
  },
  {
   "cell_type": "code",
   "execution_count": 44,
   "metadata": {},
   "outputs": [],
   "source": [
    "#chuyển đổi kiểu dữ liệu trong cột\n",
    "tranformed_df1 = orders_df.withColumn(\"id_cust_new\", col(\"customer_id\").cast(\"string\"))"
   ]
  },
  {
   "cell_type": "code",
   "execution_count": 45,
   "metadata": {},
   "outputs": [
    {
     "name": "stdout",
     "output_type": "stream",
     "text": [
      "root\n",
      " |-- order_id: integer (nullable = true)\n",
      " |-- order_date: string (nullable = true)\n",
      " |-- customer_id: integer (nullable = true)\n",
      " |-- order_status: string (nullable = true)\n",
      " |-- id_cust_new: string (nullable = true)\n",
      "\n"
     ]
    }
   ],
   "source": [
    "tranformed_df1.printSchema()"
   ]
  },
  {
   "cell_type": "code",
   "execution_count": 50,
   "metadata": {},
   "outputs": [
    {
     "name": "stdout",
     "output_type": "stream",
     "text": [
      "+--------+------------+-----------+---------------+-----------+\n",
      "|order_id|  order_date|customer_id|   order_status|id_cust_new|\n",
      "+--------+------------+-----------+---------------+-----------+\n",
      "|       1|7/25/13 0:00|      11599|         CLOSED|      11599|\n",
      "|       2|7/25/13 0:00|        256|PENDING_PAYMENT|        256|\n",
      "|       3|7/25/13 0:00|      12111|       COMPLETE|      12111|\n",
      "|       4|7/25/13 0:00|       8827|         CLOSED|       8827|\n",
      "|       5|7/25/13 0:00|      11318|       COMPLETE|      11318|\n",
      "+--------+------------+-----------+---------------+-----------+\n",
      "only showing top 5 rows\n",
      "\n"
     ]
    }
   ],
   "source": [
    "tranformed_df1.show(5)"
   ]
  },
  {
   "cell_type": "code",
   "execution_count": 49,
   "metadata": {},
   "outputs": [
    {
     "name": "stdout",
     "output_type": "stream",
     "text": [
      "+--------+------------+-----------+---------------+\n",
      "|order_id|  order_date|customer_id|         status|\n",
      "+--------+------------+-----------+---------------+\n",
      "|       1|7/25/13 0:00|      11599|         CLOSED|\n",
      "|       2|7/25/13 0:00|        256|PENDING_PAYMENT|\n",
      "|       3|7/25/13 0:00|      12111|       COMPLETE|\n",
      "|       4|7/25/13 0:00|       8827|         CLOSED|\n",
      "|       5|7/25/13 0:00|      11318|       COMPLETE|\n",
      "+--------+------------+-----------+---------------+\n",
      "only showing top 5 rows\n",
      "\n"
     ]
    }
   ],
   "source": [
    "#đổi tên cột\n",
    "tranformed_df2 = orders_df.withColumnRenamed(\"order_status\",\"status\")\n",
    "tranformed_df2.show(5)"
   ]
  },
  {
   "cell_type": "code",
   "execution_count": 51,
   "metadata": {},
   "outputs": [
    {
     "name": "stdout",
     "output_type": "stream",
     "text": [
      "+--------+---------------+\n",
      "|order_id|         status|\n",
      "+--------+---------------+\n",
      "|       1|         CLOSED|\n",
      "|       2|PENDING_PAYMENT|\n",
      "|       3|       COMPLETE|\n",
      "|       4|         CLOSED|\n",
      "|       5|       COMPLETE|\n",
      "+--------+---------------+\n",
      "only showing top 5 rows\n",
      "\n"
     ]
    }
   ],
   "source": [
    "# hiển thị ra các cột cần hiển thị\n",
    "final_df = tranformed_df2.select(\"order_id\", \"status\")\n",
    "final_df.show(5)"
   ]
  },
  {
   "cell_type": "code",
   "execution_count": 53,
   "metadata": {},
   "outputs": [],
   "source": [
    "final_df.write.csv(\"D:/code/python/spark/exercise/order_select.csv\")"
   ]
  },
  {
   "cell_type": "code",
   "execution_count": null,
   "metadata": {},
   "outputs": [],
   "source": []
  }
 ],
 "metadata": {
  "kernelspec": {
   "display_name": "Python 3",
   "language": "python",
   "name": "python3"
  },
  "language_info": {
   "codemirror_mode": {
    "name": "ipython",
    "version": 3
   },
   "file_extension": ".py",
   "mimetype": "text/x-python",
   "name": "python",
   "nbconvert_exporter": "python",
   "pygments_lexer": "ipython3",
   "version": "3.12.1"
  }
 },
 "nbformat": 4,
 "nbformat_minor": 2
}
