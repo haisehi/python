{
 "cells": [
  {
   "cell_type": "code",
   "execution_count": 1,
   "metadata": {},
   "outputs": [],
   "source": [
    "#Working with PySpark SQL Tables and Views | Managed vs Unmanaged Tables"
   ]
  },
  {
   "cell_type": "code",
   "execution_count": 2,
   "metadata": {},
   "outputs": [],
   "source": [
    "from pyspark.sql import SparkSession"
   ]
  },
  {
   "cell_type": "code",
   "execution_count": 3,
   "metadata": {},
   "outputs": [],
   "source": [
    "#Tạo một đối tượng SparkSession mới với tên ứng dụng là \"sparkSQL2\"\n",
    "spark = SparkSession.\\\n",
    "    builder.\\\n",
    "    appName(\"sparkSQL2\").\\\n",
    "    getOrCreate()"
   ]
  },
  {
   "cell_type": "code",
   "execution_count": 4,
   "metadata": {},
   "outputs": [],
   "source": [
    "#Đọc dữ liệu từ tệp CSV và tạo một DataFrame từ dữ liệu này\n",
    "data = spark.read.format('csv').\\\n",
    "option('inferSchema','true').\\\n",
    "option('header','true').\\\n",
    "option('path','operations_management.csv').\\\n",
    "load()"
   ]
  },
  {
   "cell_type": "code",
   "execution_count": 5,
   "metadata": {},
   "outputs": [
    {
     "name": "stdout",
     "output_type": "stream",
     "text": [
      "root\n",
      " |-- description: string (nullable = true)\n",
      " |-- industry: string (nullable = true)\n",
      " |-- level: integer (nullable = true)\n",
      " |-- size: string (nullable = true)\n",
      " |-- line_code: string (nullable = true)\n",
      " |-- value: integer (nullable = true)\n",
      "\n"
     ]
    }
   ],
   "source": [
    "#hiển thị cấu trúc của DataFrame.\n",
    "data.printSchema()"
   ]
  },
  {
   "cell_type": "code",
   "execution_count": 8,
   "metadata": {},
   "outputs": [],
   "source": [
    "#Tạo một view tạm thời global có tên là \"test\" từ DataFrame 'data'\n",
    "data.createOrReplaceGlobalTempView(\"test\")"
   ]
  },
  {
   "cell_type": "code",
   "execution_count": 10,
   "metadata": {},
   "outputs": [],
   "source": [
    "#Thực hiện một truy vấn SQL đơn giản trên DataFrame 'data' thông qua view tạm thời \"test\"\n",
    "data2 = spark.sql(\"\"\"\n",
    "SELECT * FROM global_temp.test\n",
    "\"\"\")"
   ]
  },
  {
   "cell_type": "code",
   "execution_count": 11,
   "metadata": {},
   "outputs": [
    {
     "name": "stdout",
     "output_type": "stream",
     "text": [
      "+--------------------+--------------------+-----+---------------+---------+-----+\n",
      "|         description|            industry|level|           size|line_code|value|\n",
      "+--------------------+--------------------+-----+---------------+---------+-----+\n",
      "|Awareness of clim...|               total|    0| 6–19 employees| C0300.01|13080|\n",
      "|Awareness of clim...|               total|    0|20–49 employees| C0300.01| 3348|\n",
      "|Awareness of clim...|               total|    0|50–99 employees| C0300.01| 1089|\n",
      "|Awareness of clim...|               total|    0| 100+ employees| C0300.01| 1023|\n",
      "|Awareness of clim...|Agriculture, fore...|    1|          total| C0300.01| 2364|\n",
      "|Awareness of clim...|         Agriculture|    2|          total| C0300.01| 1683|\n",
      "|Awareness of clim...|  Commercial fishing|    2|          total| C0300.01|   27|\n",
      "|Awareness of clim...|  Forestry & logging|    2|          total| C0300.01|  126|\n",
      "|Awareness of clim...|Agriculture, fore...|    2|          total| C0300.01|  528|\n",
      "|Awareness of clim...|              Mining|    1|          total| C0300.01|   72|\n",
      "|Awareness of clim...|       Manufacturing|    1|          total| C0300.01| 1971|\n",
      "|Awareness of clim...|Food, beverage, &...|    2|          total| C0300.01|  588|\n",
      "|Awareness of clim...|Textile, clothing...|    2|          total| C0300.01|   96|\n",
      "|Awareness of clim...|Wood & paper product|    2|          total| C0300.01|  156|\n",
      "|Awareness of clim...|Printing, publish...|    2|          total| C0300.01|   72|\n",
      "|Awareness of clim...|Petroleum, coal, ...|    2|          total| C0300.01|  189|\n",
      "|Awareness of clim...|Non-metallic mine...|    2|          total| C0300.01|  108|\n",
      "|Awareness of clim...|       Metal product|    2|          total| C0300.01|  246|\n",
      "|Awareness of clim...|Transport and ind...|    2|          total| C0300.01|  285|\n",
      "|Awareness of clim...|Other machinery &...|    2|          total| C0300.01|  117|\n",
      "+--------------------+--------------------+-----+---------------+---------+-----+\n",
      "only showing top 20 rows\n",
      "\n"
     ]
    }
   ],
   "source": [
    "data2.show()"
   ]
  },
  {
   "cell_type": "code",
   "execution_count": 12,
   "metadata": {},
   "outputs": [
    {
     "data": {
      "text/plain": [
       "[Database(name='default', catalog='spark_catalog', description='default database', locationUri='file:/D:/code/python/spark/spark-warehouse')]"
      ]
     },
     "execution_count": 12,
     "metadata": {},
     "output_type": "execute_result"
    }
   ],
   "source": [
    "# Liệt kê các cơ sở dữ liệu hiện có trong phiên làm việc Spark.\n",
    "spark.catalog.listDatabases()"
   ]
  },
  {
   "cell_type": "code",
   "execution_count": 13,
   "metadata": {},
   "outputs": [
    {
     "data": {
      "text/plain": [
       "[]"
      ]
     },
     "execution_count": 13,
     "metadata": {},
     "output_type": "execute_result"
    }
   ],
   "source": [
    "# Liệt kê các bảng hiện có trong phiên làm việc Spark.\n",
    "spark.catalog.listTables()"
   ]
  },
  {
   "cell_type": "code",
   "execution_count": 14,
   "metadata": {},
   "outputs": [
    {
     "data": {
      "text/plain": [
       "True"
      ]
     },
     "execution_count": 14,
     "metadata": {},
     "output_type": "execute_result"
    }
   ],
   "source": [
    "#Xóa view tạm thời global có tên \"test\" khỏi phiên làm việc Spark.\n",
    "spark.catalog.dropGlobalTempView(\"test\")"
   ]
  }
 ],
 "metadata": {
  "kernelspec": {
   "display_name": "Python 3",
   "language": "python",
   "name": "python3"
  },
  "language_info": {
   "codemirror_mode": {
    "name": "ipython",
    "version": 3
   },
   "file_extension": ".py",
   "mimetype": "text/x-python",
   "name": "python",
   "nbconvert_exporter": "python",
   "pygments_lexer": "ipython3",
   "version": "3.12.1"
  }
 },
 "nbformat": 4,
 "nbformat_minor": 2
}
