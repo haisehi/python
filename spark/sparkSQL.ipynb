{
 "cells": [
  {
   "cell_type": "code",
   "execution_count": 1,
   "metadata": {},
   "outputs": [],
   "source": [
    "from pyspark.sql import SparkSession"
   ]
  },
  {
   "cell_type": "code",
   "execution_count": 2,
   "metadata": {},
   "outputs": [],
   "source": [
    "#tạo một sparkSession\n",
    "spark = SparkSession.\\\n",
    "    builder.\\\n",
    "        appName(\"sparksql\").\\\n",
    "        getOrCreate()"
   ]
  },
  {
   "cell_type": "code",
   "execution_count": 3,
   "metadata": {},
   "outputs": [
    {
     "name": "stdout",
     "output_type": "stream",
     "text": [
      "3.5.1\n"
     ]
    }
   ],
   "source": [
    "print(spark.version)"
   ]
  },
  {
   "cell_type": "code",
   "execution_count": 4,
   "metadata": {},
   "outputs": [],
   "source": [
    "#đọc file csv\n",
    "data = spark.read.format('csv').\\\n",
    "option('inferSchema','true').\\\n",
    "option('header','true').\\\n",
    "option('path','operations_management.csv').\\\n",
    "load()"
   ]
  },
  {
   "cell_type": "code",
   "execution_count": 5,
   "metadata": {},
   "outputs": [
    {
     "name": "stdout",
     "output_type": "stream",
     "text": [
      "root\n",
      " |-- description: string (nullable = true)\n",
      " |-- industry: string (nullable = true)\n",
      " |-- level: integer (nullable = true)\n",
      " |-- size: string (nullable = true)\n",
      " |-- line_code: string (nullable = true)\n",
      " |-- value: integer (nullable = true)\n",
      "\n"
     ]
    }
   ],
   "source": [
    "# xem cấu trúc schema\n",
    "data.printSchema()"
   ]
  },
  {
   "cell_type": "code",
   "execution_count": 6,
   "metadata": {},
   "outputs": [],
   "source": [
    "#lọc ra dữ lự ở hàng industry và value với điều kiện value > 10000 và sắp xếp theo vaule\n",
    "data_2 = data.select(\"industry\",\"value\").\\\n",
    "filter((data.value > 200)&(data.industry != \"total\")).\\\n",
    "orderBy(\"value\")"
   ]
  },
  {
   "cell_type": "code",
   "execution_count": 7,
   "metadata": {},
   "outputs": [
    {
     "name": "stdout",
     "output_type": "stream",
     "text": [
      "root\n",
      " |-- industry: string (nullable = true)\n",
      " |-- value: integer (nullable = true)\n",
      "\n"
     ]
    }
   ],
   "source": [
    "data_2.printSchema()"
   ]
  },
  {
   "cell_type": "code",
   "execution_count": 8,
   "metadata": {},
   "outputs": [
    {
     "name": "stdout",
     "output_type": "stream",
     "text": [
      "+--------------------+-----+\n",
      "|            industry|value|\n",
      "+--------------------+-----+\n",
      "|Health care & soc...|  201|\n",
      "|      Other services|  201|\n",
      "|Agriculture, fore...|  201|\n",
      "|           Auxiliary|  201|\n",
      "|           Auxiliary|  201|\n",
      "+--------------------+-----+\n",
      "only showing top 5 rows\n",
      "\n"
     ]
    }
   ],
   "source": [
    "# dùng .show() để hiển thị dữ liệu\n",
    "data_2.show(5)"
   ]
  },
  {
   "cell_type": "code",
   "execution_count": 9,
   "metadata": {},
   "outputs": [],
   "source": [
    "data_2.createOrReplaceTempView(\"data\")"
   ]
  },
  {
   "cell_type": "code",
   "execution_count": 10,
   "metadata": {},
   "outputs": [
    {
     "name": "stdout",
     "output_type": "stream",
     "text": [
      "+--------------------+-----+\n",
      "|            industry|value|\n",
      "+--------------------+-----+\n",
      "|Information media...|  201|\n",
      "|Other professiona...|  201|\n",
      "|Petroleum, coal, ...|  201|\n",
      "|Food, beverage, &...|  201|\n",
      "|Agriculture, fore...|  201|\n",
      "|           Auxiliary|  201|\n",
      "|Financial & insur...|  201|\n",
      "|      Other services|  201|\n",
      "|Other wholesale t...|  201|\n",
      "|Agriculture, fore...|  201|\n",
      "|Administrative & ...|  201|\n",
      "|Machinery & equip...|  201|\n",
      "|           Auxiliary|  201|\n",
      "|Arts & recreation...|  201|\n",
      "|        Retail trade|  201|\n",
      "|Food, beverage, &...|  201|\n",
      "|         Agriculture|  201|\n",
      "|Arts & recreation...|  201|\n",
      "|Food, beverage, &...|  201|\n",
      "|Food, beverage, &...|  201|\n",
      "+--------------------+-----+\n",
      "only showing top 20 rows\n",
      "\n"
     ]
    }
   ],
   "source": [
    "spark.sql(\"\"\"SELECT industry,value FROM data WHERE industry !=\"total\" AND value > 200\"\"\").show()"
   ]
  }
 ],
 "metadata": {
  "kernelspec": {
   "display_name": "Python 3",
   "language": "python",
   "name": "python3"
  },
  "language_info": {
   "codemirror_mode": {
    "name": "ipython",
    "version": 3
   },
   "file_extension": ".py",
   "mimetype": "text/x-python",
   "name": "python",
   "nbconvert_exporter": "python",
   "pygments_lexer": "ipython3",
   "version": "3.12.1"
  }
 },
 "nbformat": 4,
 "nbformat_minor": 2
}
