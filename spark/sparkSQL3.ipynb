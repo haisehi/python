{
 "cells": [
  {
   "cell_type": "code",
   "execution_count": 1,
   "metadata": {},
   "outputs": [],
   "source": [
    "from pyspark.sql import SparkSession\n",
    "from pyspark.sql.types import StructType,StructField,IntegerType,StringType\n",
    "import pyspark.sql.functions as func"
   ]
  },
  {
   "cell_type": "code",
   "execution_count": 2,
   "metadata": {},
   "outputs": [],
   "source": [
    "#tạo một sparkSession\n",
    "spark = SparkSession.\\\n",
    "    builder.\\\n",
    "        appName(\"sparksql3\").\\\n",
    "        getOrCreate()"
   ]
  },
  {
   "cell_type": "code",
   "execution_count": 3,
   "metadata": {},
   "outputs": [],
   "source": [
    "mySchema = StructType([\\\n",
    "    StructField(\"userID\",IntegerType(),True),\n",
    "    StructField(\"name\",StringType(),True),\n",
    "    StructField(\"age\",IntegerType(),True),\n",
    "    StructField(\"friends\",IntegerType(),True),\n",
    "    ])"
   ]
  },
  {
   "cell_type": "code",
   "execution_count": 4,
   "metadata": {},
   "outputs": [],
   "source": [
    "#đọc file csv\n",
    "people = spark.read.format('csv').\\\n",
    "schema(mySchema).\\\n",
    "option('inferSchema','False').\\\n",
    "option('path','file:///D:/code/python/spark/fakefriends.csv').\\\n",
    "load()"
   ]
  },
  {
   "cell_type": "code",
   "execution_count": 5,
   "metadata": {},
   "outputs": [
    {
     "name": "stdout",
     "output_type": "stream",
     "text": [
      "root\n",
      " |-- userID: integer (nullable = true)\n",
      " |-- name: string (nullable = true)\n",
      " |-- age: integer (nullable = true)\n",
      " |-- friends: integer (nullable = true)\n",
      "\n"
     ]
    }
   ],
   "source": [
    "# xem cấu trúc schema\n",
    "people.printSchema()"
   ]
  },
  {
   "cell_type": "code",
   "execution_count": 6,
   "metadata": {},
   "outputs": [],
   "source": [
    "output = people.select(people.userID,people.name,people.age,people.friends).\\\n",
    "where(people.age < 30).withColumn('insert_ts',func.current_timestamp()).\\\n",
    "orderBy(people.userID).cache()"
   ]
  },
  {
   "cell_type": "code",
   "execution_count": 7,
   "metadata": {},
   "outputs": [],
   "source": [
    "output.createOrReplaceTempView(\"peoples\")"
   ]
  },
  {
   "cell_type": "code",
   "execution_count": 8,
   "metadata": {},
   "outputs": [
    {
     "name": "stdout",
     "output_type": "stream",
     "text": [
      "+------+--------+---+-------+\n",
      "|userID|    name|age|friends|\n",
      "+------+--------+---+-------+\n",
      "|     1|Jean-Luc| 26|      2|\n",
      "|     9|    Hugh| 27|    181|\n",
      "|    16|  Weyoun| 22|    323|\n",
      "|    21|   Miles| 19|    268|\n",
      "|    24|  Julian| 25|      1|\n",
      "|    25|     Ben| 21|    445|\n",
      "|    26|  Julian| 22|    100|\n",
      "|    32|     Nog| 26|    281|\n",
      "|    35| Beverly| 27|    305|\n",
      "|    46|    Morn| 25|     96|\n",
      "|    47|   Brunt| 24|     49|\n",
      "|    48|     Nog| 20|      1|\n",
      "|    52| Beverly| 19|    269|\n",
      "|    54|   Brunt| 19|      5|\n",
      "|    60|  Geordi| 20|    100|\n",
      "|    66|  Geordi| 21|    477|\n",
      "|    72|  Kasidy| 22|    179|\n",
      "|    73|   Brunt| 20|    384|\n",
      "|    84|     Ben| 28|    311|\n",
      "|    89|    Worf| 24|    492|\n",
      "+------+--------+---+-------+\n",
      "only showing top 20 rows\n",
      "\n"
     ]
    }
   ],
   "source": [
    "spark.sql(\"SELECT userID,name,age,friends from peoples\").show()"
   ]
  },
  {
   "cell_type": "code",
   "execution_count": 10,
   "metadata": {},
   "outputs": [],
   "source": [
    "# error message\n",
    "output.write \\\n",
    "    .format(\"csv\") \\\n",
    "    .mode(\"overwrite\") \\\n",
    "    .option(\"path\", \"file:///D:/code/python/spark/output/op/\") \\\n",
    "    .partitionBy(\"age\") \\\n",
    "    .save()\n"
   ]
  },
  {
   "cell_type": "code",
   "execution_count": null,
   "metadata": {},
   "outputs": [],
   "source": []
  }
 ],
 "metadata": {
  "kernelspec": {
   "display_name": "Python 3 (ipykernel)",
   "language": "python",
   "name": "python3"
  },
  "language_info": {
   "codemirror_mode": {
    "name": "ipython",
    "version": 3
   },
   "file_extension": ".py",
   "mimetype": "text/x-python",
   "name": "python",
   "nbconvert_exporter": "python",
   "pygments_lexer": "ipython3",
   "version": "3.12.1"
  }
 },
 "nbformat": 4,
 "nbformat_minor": 4
}
